{
  "cells": [
    {
      "cell_type": "markdown",
      "metadata": {
        "id": "azhwTXyF8ivC"
      },
      "source": [
        "# Lab 6: Transformers\n",
        "## Machine Learning Hardware Course\n",
        "\n",
        "This notebook is Part 1 of the transformer lab. It covers:\n",
        "1. Environment setup\n",
        "2. Understand basic operations in Transformer.\n",
        "\n",
        "Reference.\n",
        "1. https://uvadlc-notebooks.readthedocs.io.    \n",
        "2. https://github.com/phlippe/uvadlc_notebooks"
      ]
    },
    {
      "cell_type": "markdown",
      "metadata": {
        "id": "-WcJQHSUGnNZ"
      },
      "source": [
        "## PART 1: Basic Operations in Transformer"
      ]
    },
    {
      "cell_type": "code",
      "execution_count": null,
      "metadata": {
        "id": "vfs6YGBrDCI8"
      },
      "outputs": [],
      "source": [
        "## Standard libraries\n",
        "import os\n",
        "import numpy as np\n",
        "import random\n",
        "import math\n",
        "import json\n",
        "from functools import partial\n",
        "\n",
        "## Imports for plotting\n",
        "import matplotlib.pyplot as plt\n",
        "plt.set_cmap('cividis')\n",
        "%matplotlib inline\n",
        "from IPython.display import set_matplotlib_formats\n",
        "set_matplotlib_formats('svg', 'pdf') # For export\n",
        "from matplotlib.colors import to_rgb\n",
        "import matplotlib\n",
        "matplotlib.rcParams['lines.linewidth'] = 2.0\n",
        "import seaborn as sns\n",
        "sns.reset_orig()\n",
        "\n",
        "## tqdm for loading bars\n",
        "from tqdm.notebook import tqdm\n",
        "\n",
        "## PyTorch\n",
        "import torch\n",
        "import torch.nn as nn\n",
        "import torch.nn.functional as F\n",
        "import torch.utils.data as data\n",
        "import torch.optim as optim\n",
        "\n",
        "## Torchvision\n",
        "import torchvision\n",
        "from torchvision.datasets import CIFAR100\n",
        "from torchvision import transforms\n",
        "\n",
        "# PyTorch Lightning\n",
        "try:\n",
        "    import pytorch_lightning as pl\n",
        "except ModuleNotFoundError: # Google Colab does not have PyTorch Lightning installed by default. Hence, we do it here if necessary\n",
        "    !pip install --quiet pytorch-lightning>=1.4\n",
        "    import pytorch_lightning as pl\n",
        "from pytorch_lightning.callbacks import LearningRateMonitor, ModelCheckpoint\n",
        "\n",
        "# Path to the folder where the datasets are/should be downloaded (e.g. CIFAR10)\n",
        "DATASET_PATH = \"../data\"\n",
        "# Path to the folder where the pretrained models are saved\n",
        "CHECKPOINT_PATH = \"../saved_models/tutorial6\"\n",
        "\n",
        "# Setting the seed\n",
        "pl.seed_everything(42)\n",
        "\n",
        "# Ensure that all operations are deterministic on GPU (if used) for reproducibility\n",
        "torch.backends.cudnn.deterministic = True\n",
        "torch.backends.cudnn.benchmark = False\n",
        "\n",
        "device = torch.device(\"cuda:0\") if torch.cuda.is_available() else torch.device(\"cpu\")\n",
        "print(\"Device:\", device)"
      ]
    },
    {
      "cell_type": "markdown",
      "metadata": {
        "id": "TJtfM_L_DUcb"
      },
      "source": [
        "Two pre-trained models are downloaded below. Make sure to have adjusted your `CHECKPOINT_PATH` before running this code if not already done."
      ]
    },
    {
      "cell_type": "code",
      "execution_count": null,
      "metadata": {
        "id": "IFM6Bts8DChg"
      },
      "outputs": [],
      "source": [
        "import urllib.request\n",
        "from urllib.error import HTTPError\n",
        "# Github URL where saved models are stored for this tutorial\n",
        "base_url = \"https://raw.githubusercontent.com/phlippe/saved_models/main/tutorial6/\"\n",
        "# Files to download\n",
        "pretrained_files = [\"ReverseTask.ckpt\", \"SetAnomalyTask.ckpt\"]\n",
        "\n",
        "# Create checkpoint path if it doesn't exist yet\n",
        "os.makedirs(CHECKPOINT_PATH, exist_ok=True)\n",
        "\n",
        "# For each file, check whether it already exists. If not, try downloading it.\n",
        "for file_name in pretrained_files:\n",
        "    file_path = os.path.join(CHECKPOINT_PATH, file_name)\n",
        "    if \"/\" in file_name:\n",
        "        os.makedirs(file_path.rsplit(\"/\",1)[0], exist_ok=True)\n",
        "    if not os.path.isfile(file_path):\n",
        "        file_url = base_url + file_name\n",
        "        print(f\"Downloading {file_url}...\")\n",
        "        try:\n",
        "            urllib.request.urlretrieve(file_url, file_path)\n",
        "        except HTTPError as e:\n",
        "            print(\"Something went wrong. Please try to download the file from the GDrive folder, or contact the author with the full output including the following error:\\n\", e)"
      ]
    },
    {
      "cell_type": "markdown",
      "metadata": {
        "id": "cyQWwceSDZ_T"
      },
      "source": [
        "## The Transformer architecture\n",
        "\n",
        "In the first part of this notebook, we will implement the Transformer architecture by hand. As the architecture is so popular, there already exists a Pytorch module `nn.Transformer` ([documentation](https://pytorch.org/docs/stable/generated/torch.nn.Transformer.html)) and a [tutorial](https://pytorch.org/tutorials/beginner/transformer_tutorial.html) on how to use it for next token prediction. However, we will implement it here ourselves, to get through to the smallest details."
      ]
    },
    {
      "cell_type": "markdown",
      "metadata": {
        "id": "PsE8Mh8bDcaA"
      },
      "source": [
        "### What is Attention?\n",
        "\n",
        "The attention mechanism describes a recent new group of layers in neural networks that has attracted a lot of interest in the past few years, especially in sequence tasks. There are a lot of different possible definitions of \"attention\" in the literature, but the one we will use here is the following: _the attention mechanism describes a weighted average of (sequence) elements with the weights dynamically computed based on an input query and elements' keys_. So what does this exactly mean? The goal is to take an average over the features of multiple elements. However, instead of weighting each element equally, we want to weight them depending on their actual values. In other words, we want to dynamically decide on which inputs we want to \"attend\" more than others. In particular, an attention mechanism has usually four parts we need to specify:\n",
        "\n",
        "* **Query**: The query is a feature vector that describes what we are looking for in the sequence, i.e. what would we maybe want to pay attention to.\n",
        "* **Keys**: For each input element, we have a key which is again a feature vector. This feature vector roughly describes what the element is \"offering\", or when it might be important. The keys should be designed such that we can identify the elements we want to pay attention to based on the query.\n",
        "* **Values**: For each input element, we also have a value vector. This feature vector is the one we want to average over.\n",
        "* **Score function**: To rate which elements we want to pay attention to, we need to specify a score function $f_{attn}$. The score function takes the query and a key as input, and output the score/attention weight of the query-key pair. It is usually implemented by simple similarity metrics like a dot product, or a small MLP.\n",
        "\n",
        "\n",
        "The weights of the average are calculated by a softmax over all score function outputs. Hence, we assign those value vectors a higher weight whose corresponding key is most similar to the query. If we try to describe it with pseudo-math, we can write:\n",
        "\n",
        "$$\n",
        "\\alpha_i = \\frac{\\exp\\left(f_{attn}\\left(\\text{key}_i, \\text{query}\\right)\\right)}{\\sum_j \\exp\\left(f_{attn}\\left(\\text{key}_j, \\text{query}\\right)\\right)}, \\hspace{5mm} \\text{out} = \\sum_i \\alpha_i \\cdot \\text{value}_i\n",
        "$$\n",
        "\n",
        "For every word, we have one key and one value vector. The query is compared to all keys with a score function (in this case the dot product) to determine the weights. The softmax is not visualized for simplicity. Finally, the value vectors of all words are averaged using the attention weights.\n",
        "\n",
        "Most attention mechanisms differ in terms of what queries they use, how the key and value vectors are defined, and what score function is used. The attention applied inside the Transformer architecture is called **self-attention**. In self-attention, each sequence element provides a key, value, and query. For each element, we perform an attention layer where based on its query, we check the similarity of the all sequence elements' keys, and returned a different, averaged value vector for each element. We will now go into a bit more detail by first looking at the specific implementation of the attention mechanism which is in the Transformer case the scaled dot product attention."
      ]
    },
    {
      "cell_type": "markdown",
      "metadata": {
        "id": "vkuifjDmDvMI"
      },
      "source": [
        "### Scaled Dot Product Attention\n",
        "\n",
        "The core concept behind self-attention is the scaled dot product attention. Our goal is to have an attention mechanism with which any element in a sequence can attend to any other while still being efficient to compute. The dot product attention takes as input a set of queries $Q\\in\\mathbb{R}^{T\\times d_k}$, keys $K\\in\\mathbb{R}^{T\\times d_k}$ and values $V\\in\\mathbb{R}^{T\\times d_v}$ where $T$ is the sequence length, and $d_k$ and $d_v$ are the hidden dimensionality for queries/keys and values respectively. For simplicity, we neglect the batch dimension for now. The attention value from element $i$ to $j$ is based on its similarity of the query $Q_i$ and key $K_j$, using the dot product as the similarity metric. In math, we calculate the dot product attention as follows:\n",
        "\n",
        "$$\\text{Attention}(Q,K,V)=\\text{softmax}\\left(\\frac{QK^T}{\\sqrt{d_k}}\\right)V$$\n",
        "\n",
        "The matrix multiplication $QK^T$ performs the dot product for every possible pair of queries and keys, resulting in a matrix of the shape $T\\times T$. Each row represents the attention logits for a specific element $i$ to all other elements in the sequence. On these, we apply a softmax and multiply with the value vector to obtain a weighted mean (the weights being determined by the attention). Another perspective on this attention mechanism offers the computation graph which is visualized below (figure credit - [Vaswani et al., 2017](https://arxiv.org/abs/1706.03762)).\n",
        "\n",
        "One aspect we haven't discussed yet is the scaling factor of $1/\\sqrt{d_k}$. This scaling factor is crucial to maintain an appropriate variance of attention values after initialization. Remember that we intialize our layers with the intention of having equal variance throughout the model, and hence, $Q$ and $K$ might also have a variance close to $1$. However, performing a dot product over two vectors with a variance $\\sigma^2$ results in a scalar having $d_k$-times higher variance:\n",
        "\n",
        "$$q_i \\sim \\mathcal{N}(0,\\sigma^2), k_i \\sim \\mathcal{N}(0,\\sigma^2) \\to \\text{Var}\\left(\\sum_{i=1}^{d_k} q_i\\cdot k_i\\right) = \\sigma^4\\cdot d_k$$\n",
        "\n",
        "\n",
        "If we do not scale down the variance back to $\\sim\\sigma^2$, the softmax over the logits will already saturate to $1$ for one random element and $0$ for all others. The gradients through the softmax will be close to zero so that we can't learn the parameters appropriately. Note that the extra factor of $\\sigma^2$, i.e., having $\\sigma^4$ instead of $\\sigma^2$, is usually not an issue, since we keep the original variance $\\sigma^2$ close to $1$ anyways.\n",
        "\n",
        "The block `Mask (opt.)` in the diagram above represents the optional masking of specific entries in the attention matrix. This is for instance used if we stack multiple sequences with different lengths into a batch. To still benefit from parallelization in PyTorch, we pad the sentences to the same length and mask out the padding tokens during the calculation of the attention values. This is usually done by setting the respective attention logits to a very low value.\n",
        "\n",
        "After we have discussed the details of the scaled dot product attention block, we can write a function below which computes the output features given the triple of queries, keys, and values:"
      ]
    },
    {
      "cell_type": "code",
      "execution_count": null,
      "metadata": {
        "id": "NEuRXvWNDCj6"
      },
      "outputs": [],
      "source": [
        "def scaled_dot_product(q, k, v, mask=None):\n",
        "    d_k = q.size()[-1]\n",
        "    attn_logits = torch.matmul(q, k.transpose(-2, -1))\n",
        "    attn_logits = attn_logits / math.sqrt(d_k)\n",
        "    if mask is not None:\n",
        "        attn_logits = attn_logits.masked_fill(mask == 0, -9e15)\n",
        "    attention = F.softmax(attn_logits, dim=-1)\n",
        "    values = torch.matmul(attention, v)\n",
        "    return values, attention"
      ]
    },
    {
      "cell_type": "markdown",
      "metadata": {
        "id": "vTMKxHMiD1Sk"
      },
      "source": [
        "Note that our code above supports any additional dimensionality in front of the sequence length so that we can also use it for batches. However, for a better understanding, let's generate a few random queries, keys, and value vectors, and calculate the attention outputs:"
      ]
    },
    {
      "cell_type": "code",
      "execution_count": null,
      "metadata": {
        "id": "twv-NL5pDCmg"
      },
      "outputs": [],
      "source": [
        "seq_len, d_k = 3, 2\n",
        "pl.seed_everything(42)\n",
        "q = torch.randn(seq_len, d_k)\n",
        "k = torch.randn(seq_len, d_k)\n",
        "v = torch.randn(seq_len, d_k)\n",
        "values, attention = scaled_dot_product(q, k, v)\n",
        "print(\"Q\\n\", q)\n",
        "print(\"K\\n\", k)\n",
        "print(\"V\\n\", v)\n",
        "print(\"Values\\n\", values)\n",
        "print(\"Attention\\n\", attention)"
      ]
    },
    {
      "cell_type": "markdown",
      "metadata": {
        "id": "Ch_u3yIID83C"
      },
      "source": [
        "Before continuing, make sure you can follow the calculation of the specific values here, and also check it by hand. It is important to fully understand how the scaled dot product attention is calculated."
      ]
    },
    {
      "cell_type": "markdown",
      "metadata": {
        "id": "XxVmNBNqD7OT"
      },
      "source": [
        "### Multi-Head Attention\n",
        "\n",
        "The scaled dot product attention allows a network to attend over a sequence. However, often there are multiple different aspects a sequence element wants to attend to, and a single weighted average is not a good option for it. This is why we extend the attention mechanisms to multiple heads, i.e. multiple different query-key-value triplets on the same features. Specifically, given a query, key, and value matrix, we transform those into $h$ sub-queries, sub-keys, and sub-values, which we pass through the scaled dot product attention independently. Afterward, we concatenate the heads and combine them with a final weight matrix. Mathematically, we can express this operation as:\n",
        "\n",
        "$$\n",
        "\\begin{split}\n",
        "    \\text{Multihead}(Q,K,V) & = \\text{Concat}(\\text{head}_1,...,\\text{head}_h)W^{O}\\\\\n",
        "    \\text{where } \\text{head}_i & = \\text{Attention}(QW_i^Q,KW_i^K, VW_i^V)\n",
        "\\end{split}\n",
        "$$\n",
        "\n",
        "We refer to this as Multi-Head Attention layer with the learnable parameters $W_{1...h}^{Q}\\in\\mathbb{R}^{D\\times d_k}$, $W_{1...h}^{K}\\in\\mathbb{R}^{D\\times d_k}$, $W_{1...h}^{V}\\in\\mathbb{R}^{D\\times d_v}$, and $W^{O}\\in\\mathbb{R}^{h\\cdot d_v\\times d_{out}}$ ($D$ being the input dimensionality).\n",
        "\n",
        "\n",
        "How are we applying a Multi-Head Attention layer in a neural network, where we don't have an arbitrary query, key, and value vector as input? Looking at the computation graph above, a simple but effective implementation is to set the current feature map in a NN, $X\\in\\mathbb{R}^{B\\times T\\times d_{\\text{model}}}$, as $Q$, $K$ and $V$ ($B$ being the batch size, $T$ the sequence length, $d_{\\text{model}}$ the hidden dimensionality of $X$). The consecutive weight matrices $W^{Q}$, $W^{K}$, and $W^{V}$ can transform $X$ to the corresponding feature vectors that represent the queries, keys, and values of the input. Using this approach, we can implement the Multi-Head Attention module below."
      ]
    },
    {
      "cell_type": "code",
      "execution_count": null,
      "metadata": {
        "id": "s1k4MVPfDCrb"
      },
      "outputs": [],
      "source": [
        "# Helper function to support different mask shapes.\n",
        "# Output shape supports (batch_size, number of heads, seq length, seq length)\n",
        "# If 2D: broadcasted over batch size and number of heads\n",
        "# If 3D: broadcasted over number of heads\n",
        "# If 4D: leave as is\n",
        "def expand_mask(mask):\n",
        "    assert mask.ndim >= 2, \"Mask must be at least 2-dimensional with seq_length x seq_length\"\n",
        "    if mask.ndim == 3:\n",
        "        mask = mask.unsqueeze(1)\n",
        "    while mask.ndim < 4:\n",
        "        mask = mask.unsqueeze(0)\n",
        "    return mask"
      ]
    },
    {
      "cell_type": "code",
      "execution_count": null,
      "metadata": {
        "id": "C2hrYcuRDCuA"
      },
      "outputs": [],
      "source": [
        "# http://jalammar.github.io/illustrated-transformer/\n",
        "class MultiheadAttention(nn.Module):\n",
        "\n",
        "    def __init__(self, input_dim, embed_dim, num_heads):\n",
        "        super().__init__()\n",
        "        assert embed_dim % num_heads == 0, \"Embedding dimension must be 0 modulo number of heads.\"\n",
        "\n",
        "        self.embed_dim = embed_dim\n",
        "        self.num_heads = num_heads\n",
        "        self.head_dim = embed_dim // num_heads\n",
        "\n",
        "        # Stack all weight matrices 1...h together for efficiency\n",
        "        # Note that in many implementations you see \"bias=False\" which is optional\n",
        "        self.qkv_proj = nn.Linear(input_dim, 3*embed_dim)\n",
        "        self.o_proj = nn.Linear(embed_dim, input_dim)\n",
        "\n",
        "        self._reset_parameters()\n",
        "\n",
        "    def _reset_parameters(self):\n",
        "        # Original Transformer initialization, see PyTorch documentation\n",
        "        nn.init.xavier_uniform_(self.qkv_proj.weight)\n",
        "        self.qkv_proj.bias.data.fill_(0)\n",
        "        nn.init.xavier_uniform_(self.o_proj.weight)\n",
        "        self.o_proj.bias.data.fill_(0)\n",
        "\n",
        "    def forward(self, x, mask=None, return_attention=False):\n",
        "        batch_size, seq_length, _ = x.size()\n",
        "        if mask is not None:\n",
        "            mask = expand_mask(mask)\n",
        "        qkv = self.qkv_proj(x)\n",
        "\n",
        "        # Separate Q, K, V from linear output\n",
        "        qkv = qkv.reshape(batch_size, seq_length, self.num_heads, 3*self.head_dim)\n",
        "        qkv = qkv.permute(0, 2, 1, 3) # [Batch, Head, SeqLen, Dims]\n",
        "        q, k, v = qkv.chunk(3, dim=-1)\n",
        "\n",
        "        # Determine value outputs\n",
        "        values, attention = scaled_dot_product(q, k, v, mask=mask)\n",
        "        values = values.permute(0, 2, 1, 3) # [Batch, SeqLen, Head, Dims]\n",
        "        values = values.reshape(batch_size, seq_length, self.embed_dim)\n",
        "        o = self.o_proj(values)\n",
        "\n",
        "        if return_attention:\n",
        "            return o, attention\n",
        "        else:\n",
        "            return o"
      ]
    },
    {
      "cell_type": "markdown",
      "metadata": {
        "id": "5SJNR9dFEBmi"
      },
      "source": [
        "One crucial characteristic of the multi-head attention is that it is permutation-equivariant with respect to its inputs. This means that if we switch two input elements in the sequence, e.g. $X_1\\leftrightarrow X_2$ (neglecting the batch dimension for now), the output is exactly the same besides the elements 1 and 2 switched. Hence, the multi-head attention is actually looking at the input not as a sequence, but as a set of elements. This property makes the multi-head attention block and the Transformer architecture so powerful and widely applicable! But what if the order of the input is actually important for solving the task, like language modeling? The answer is to encode the position in the input features, which we will take a closer look at later (topic _Positional encodings_ below).\n"
      ]
    },
    {
      "cell_type": "markdown",
      "metadata": {
        "id": "RTmiZV-GEFV5"
      },
      "source": [
        "### Transformer Encoder\n",
        "\n",
        "Next, we will look at how to apply the multi-head attention block inside the Transformer architecture.\n",
        "\n",
        "The encoder consists of $N$ identical blocks that are applied in sequence. Taking as input $x$, it is first passed through a Multi-Head Attention block as we have implemented above. The output is added to the original input using a residual connection, and we apply a consecutive Layer Normalization on the sum. Overall, it calculates $\\text{LayerNorm}(x+\\text{Multihead}(x,x,x))$ ($x$ being $Q$, $K$ and $V$ input to the attention layer). The residual connection is crucial in the Transformer architecture for two reasons:\n",
        "\n",
        "1. Similar to ResNets, Transformers are designed to be very deep. Some models contain more than 24 blocks in the encoder. Hence, the residual connections are crucial for enabling a smooth gradient flow through the model.\n",
        "2. Without the residual connection, the information about the original sequence is lost. Remember that the Multi-Head Attention layer ignores the position of elements in a sequence, and can only learn it based on the input features. Removing the residual connections would mean that this information is lost after the first attention layer (after initialization), and with a randomly initialized query and key vector, the output vectors for position $i$ has no relation to its original input. All outputs of the attention are likely to represent similar/same information, and there is no chance for the model to distinguish which information came from which input element. An alternative option to residual connection would be to fix at least one head to focus on its original input, but this is very inefficient and does not have the benefit of the improved gradient flow.\n",
        "\n",
        "The Layer Normalization also plays an important role in the Transformer architecture as it enables faster training and provides small regularization. Additionally, it ensures that the features are in a similar magnitude among the elements in the sequence. We are not using Batch Normalization because it depends on the batch size which is often small with Transformers (they require a lot of GPU memory), and BatchNorm has shown to perform particularly bad in language as the features of words tend to have a much higher variance (there are many, very rare words which need to be considered for a good distribution estimate).\n",
        "\n",
        "Additionally to the Multi-Head Attention, a small fully connected feed-forward network is added to the model, which is applied to each position separately and identically. Specifically, the model uses a Linear$\\to$ReLU$\\to$Linear MLP. The full transformation including the residual connection can be expressed as:  \n",
        "\n",
        "$$\n",
        "\\begin{split}\n",
        "    \\text{FFN}(x) & = \\max(0, xW_1+b_1)W_2 + b_2\\\\\n",
        "    x & = \\text{LayerNorm}(x + \\text{FFN}(x))\n",
        "\\end{split}\n",
        "$$\n",
        "\n",
        "This MLP adds extra complexity to the model and allows transformations on each sequence element separately. You can imagine as this allows the model to \"post-process\" the new information added by the previous Multi-Head Attention, and prepare it for the next attention block. Usually, the inner dimensionality of the MLP is 2-8$\\times$ larger than $d_{\\text{model}}$, i.e. the dimensionality of the original input $x$. The general advantage of a wider layer instead of a narrow, multi-layer MLP is the faster, parallelizable execution.\n",
        "\n",
        "Finally, after looking at all parts of the encoder architecture, we can start implementing it below. We first start by implementing a single encoder block. Additionally to the layers described above, we will add dropout layers in the MLP and on the output of the MLP and Multi-Head Attention for regularization."
      ]
    },
    {
      "cell_type": "code",
      "execution_count": null,
      "metadata": {
        "id": "NmlpN5zMDCwl"
      },
      "outputs": [],
      "source": [
        "class EncoderBlock(nn.Module):\n",
        "\n",
        "    def __init__(self, input_dim, num_heads, dim_feedforward, dropout=0.0):\n",
        "        \"\"\"\n",
        "        Inputs:\n",
        "            input_dim - Dimensionality of the input\n",
        "            num_heads - Number of heads to use in the attention block\n",
        "            dim_feedforward - Dimensionality of the hidden layer in the MLP\n",
        "            dropout - Dropout probability to use in the dropout layers\n",
        "        \"\"\"\n",
        "        super().__init__()\n",
        "\n",
        "        # Attention layer\n",
        "        self.self_attn = MultiheadAttention(input_dim, input_dim, num_heads)\n",
        "\n",
        "        # Two-layer MLP\n",
        "        self.linear_net = nn.Sequential(\n",
        "            nn.Linear(input_dim, dim_feedforward),\n",
        "            nn.Dropout(dropout),\n",
        "            nn.ReLU(inplace=True),\n",
        "            nn.Linear(dim_feedforward, input_dim)\n",
        "        )\n",
        "\n",
        "        # Layers to apply in between the main layers\n",
        "        self.norm1 = nn.LayerNorm(input_dim)\n",
        "        self.norm2 = nn.LayerNorm(input_dim)\n",
        "        self.dropout = nn.Dropout(dropout)\n",
        "\n",
        "    def forward(self, x, mask=None):\n",
        "        # Attention part\n",
        "        attn_out = self.self_attn(x, mask=mask)\n",
        "        x = x + self.dropout(attn_out)\n",
        "        x = self.norm1(x)\n",
        "\n",
        "        # MLP part\n",
        "        linear_out = self.linear_net(x)\n",
        "        x = x + self.dropout(linear_out)\n",
        "        x = self.norm2(x)\n",
        "\n",
        "        return x"
      ]
    },
    {
      "cell_type": "markdown",
      "metadata": {
        "id": "0vHOTr7JEKvG"
      },
      "source": [
        "Based on this block, we can implement a module for the full Transformer encoder."
      ]
    },
    {
      "cell_type": "markdown",
      "metadata": {
        "id": "QAwOLjEiEOP2"
      },
      "source": [
        "### Positional encoding\n",
        "\n",
        "We have discussed before that the Multi-Head Attention block is permutation-equivariant, and cannot distinguish whether an input comes before another one in the sequence or not. In tasks like language understanding, however, the position is important for interpreting the input words. The position information can therefore be added via the input features. We could learn a embedding for every possible position, but this would not generalize to a dynamical input sequence length. Hence, the better option is to use feature patterns that the network can identify from the features and potentially generalize to larger sequences. The specific pattern chosen by Vaswani et al. are sine and cosine functions of different frequencies, as follows:\n",
        "\n",
        "$$\n",
        "PE_{(pos,i)} = \\begin{cases}\n",
        "    \\sin\\left(\\frac{pos}{10000^{i/d_{\\text{model}}}}\\right) & \\text{if}\\hspace{3mm} i \\text{ mod } 2=0\\\\\n",
        "    \\cos\\left(\\frac{pos}{10000^{(i-1)/d_{\\text{model}}}}\\right) & \\text{otherwise}\\\\\n",
        "\\end{cases}\n",
        "$$\n",
        "\n",
        "$PE_{(pos,i)}$ represents the position encoding at position $pos$ in the sequence, and hidden dimensionality $i$. These values, concatenated for all hidden dimensions, are added to the original input features (in the Transformer visualization above, see \"Positional encoding\"), and constitute the position information. We distinguish between even ($i \\text{ mod } 2=0$) and uneven ($i \\text{ mod } 2=1$) hidden dimensionalities where we apply a sine/cosine respectively. The intuition behind this encoding is that you can represent $PE_{(pos+k,:)}$ as a linear function of $PE_{(pos,:)}$, which might allow the model to easily attend to relative positions. The wavelengths in different dimensions range from $2\\pi$ to $10000\\cdot 2\\pi$.\n",
        "\n",
        "The positional encoding is implemented below. The code is taken from the [PyTorch tutorial](https://pytorch.org/tutorials/beginner/transformer_tutorial.html#define-the-model) about Transformers on NLP and adjusted for our purposes."
      ]
    },
    {
      "cell_type": "code",
      "execution_count": null,
      "metadata": {
        "id": "KyIhMoECDC5L"
      },
      "outputs": [],
      "source": [
        "class PositionalEncoding(nn.Module):\n",
        "\n",
        "    def __init__(self, d_model, max_len=5000):\n",
        "        \"\"\"\n",
        "        Inputs\n",
        "            d_model - Hidden dimensionality of the input.\n",
        "            max_len - Maximum length of a sequence to expect.\n",
        "        \"\"\"\n",
        "        super().__init__()\n",
        "\n",
        "        # Create matrix of [SeqLen, HiddenDim] representing the positional encoding for max_len inputs\n",
        "        pe = torch.zeros(max_len, d_model)\n",
        "        position = torch.arange(0, max_len, dtype=torch.float).unsqueeze(1)\n",
        "        div_term = torch.exp(torch.arange(0, d_model, 2).float() * (-math.log(10000.0) / d_model))\n",
        "        pe[:, 0::2] = torch.sin(position * div_term)\n",
        "        pe[:, 1::2] = torch.cos(position * div_term)\n",
        "        pe = pe.unsqueeze(0)\n",
        "\n",
        "        # register_buffer => Tensor which is not a parameter, but should be part of the modules state.\n",
        "        # Used for tensors that need to be on the same device as the module.\n",
        "        # persistent=False tells PyTorch to not add the buffer to the state dict (e.g. when we save the model)\n",
        "        self.register_buffer('pe', pe, persistent=False)\n",
        "\n",
        "    def forward(self, x):\n",
        "        x = x + self.pe[:, :x.size(1)]\n",
        "        return x"
      ]
    },
    {
      "cell_type": "markdown",
      "metadata": {
        "id": "ESF7CFpTEUg8"
      },
      "source": [
        "To understand the positional encoding, we can visualize it below. We will generate an image of the positional encoding over hidden dimensionality and position in a sequence. Each pixel, therefore, represents the change of the input feature we perform to encode the specific position. Let's do it below."
      ]
    },
    {
      "cell_type": "code",
      "execution_count": null,
      "metadata": {
        "id": "fELefsWwDC7m"
      },
      "outputs": [],
      "source": [
        "encod_block = PositionalEncoding(d_model=48, max_len=96)\n",
        "pe = encod_block.pe.squeeze().T.cpu().numpy()\n",
        "\n",
        "fig, ax = plt.subplots(nrows=1, ncols=1, figsize=(8,3))\n",
        "pos = ax.imshow(pe, cmap=\"RdGy\", extent=(1,pe.shape[1]+1,pe.shape[0]+1,1))\n",
        "fig.colorbar(pos, ax=ax)\n",
        "ax.set_xlabel(\"Position in sequence\")\n",
        "ax.set_ylabel(\"Hidden dimension\")\n",
        "ax.set_title(\"Positional encoding over hidden dimensions\")\n",
        "ax.set_xticks([1]+[i*10 for i in range(1,1+pe.shape[1]//10)])\n",
        "ax.set_yticks([1]+[i*10 for i in range(1,1+pe.shape[0]//10)])\n",
        "plt.show()"
      ]
    },
    {
      "cell_type": "markdown",
      "metadata": {
        "id": "epY4wMhFEXsD"
      },
      "source": [
        "You can clearly see the sine and cosine waves with different wavelengths that encode the position in the hidden dimensions. Specifically, we can look at the sine/cosine wave for each hidden dimension separately, to get a better intuition of the pattern. Below we visualize the positional encoding for the hidden dimensions $1$, $2$, $3$ and $4$."
      ]
    },
    {
      "cell_type": "code",
      "execution_count": null,
      "metadata": {
        "id": "sLWE-ds7ES2s"
      },
      "outputs": [],
      "source": [
        "sns.set_theme()\n",
        "fig, ax = plt.subplots(2, 2, figsize=(12,4))\n",
        "ax = [a for a_list in ax for a in a_list]\n",
        "for i in range(len(ax)):\n",
        "    ax[i].plot(np.arange(1,17), pe[i,:16], color=f'C{i}', marker=\"o\", markersize=6, markeredgecolor=\"black\")\n",
        "    ax[i].set_title(f\"Encoding in hidden dimension {i+1}\")\n",
        "    ax[i].set_xlabel(\"Position in sequence\", fontsize=10)\n",
        "    ax[i].set_ylabel(\"Positional encoding\", fontsize=10)\n",
        "    ax[i].set_xticks(np.arange(1,17))\n",
        "    ax[i].tick_params(axis='both', which='major', labelsize=10)\n",
        "    ax[i].tick_params(axis='both', which='minor', labelsize=8)\n",
        "    ax[i].set_ylim(-1.2, 1.2)\n",
        "fig.subplots_adjust(hspace=0.8)\n",
        "sns.reset_orig()\n",
        "plt.show()"
      ]
    },
    {
      "cell_type": "markdown",
      "metadata": {
        "id": "6KbX2I-pEb51"
      },
      "source": [
        "As we can see, the patterns between the hidden dimension $1$ and $2$ only differ in the starting angle. The wavelength is $2\\pi$, hence the repetition after position $6$. The hidden dimensions $2$ and $3$ have about twice the wavelength."
      ]
    },
    {
      "cell_type": "markdown",
      "metadata": {
        "id": "H9u0EuY0DSPY"
      },
      "source": [
        "## PART 2: Vision Transformer\n",
        "\n",
        "This notebook is Part 2 of the transformer lab.\n",
        "\n",
        "In this tutorial, we will take a closer look at a recent new trend: Transformers for Computer Vision. Since Alexey Dosovitskiy et al. successfully applied a Transformer on a variety of image recognition benchmarks, there have been an incredible amount of follow-up works showing that CNNs might not be optimal architecture for Computer Vision anymore. But how do Vision Transformers work exactly, and what benefits and drawbacks do they offer in contrast to CNNs? We will answer these questions by implementing a Vision Transformer ourselves and train it on the popular, small dataset CIFAR10.  We will use PyTorch Lightning. Let's start with importing our standard set of libraries."
      ]
    },
    {
      "cell_type": "code",
      "execution_count": null,
      "metadata": {
        "id": "SO09T9_Y-88r"
      },
      "outputs": [],
      "source": [
        "## Standard libraries\n",
        "import os\n",
        "import numpy as np\n",
        "import random\n",
        "import math\n",
        "import json\n",
        "from functools import partial\n",
        "from PIL import Image\n",
        "\n",
        "## Imports for plotting\n",
        "import matplotlib.pyplot as plt\n",
        "plt.set_cmap('cividis')\n",
        "%matplotlib inline\n",
        "from IPython.display import set_matplotlib_formats\n",
        "set_matplotlib_formats('svg', 'pdf') # For export\n",
        "from matplotlib.colors import to_rgb\n",
        "import matplotlib\n",
        "matplotlib.rcParams['lines.linewidth'] = 2.0\n",
        "import seaborn as sns\n",
        "sns.reset_orig()\n",
        "\n",
        "## tqdm for loading bars\n",
        "from tqdm.notebook import tqdm\n",
        "\n",
        "## PyTorch\n",
        "import torch\n",
        "import torch.nn as nn\n",
        "import torch.nn.functional as F\n",
        "import torch.utils.data as data\n",
        "import torch.optim as optim\n",
        "\n",
        "## Torchvision\n",
        "import torchvision\n",
        "from torchvision.datasets import CIFAR10\n",
        "from torchvision import transforms\n",
        "\n",
        "# PyTorch Lightning\n",
        "try:\n",
        "    import pytorch_lightning as pl\n",
        "except ModuleNotFoundError: # Google Colab does not have PyTorch Lightning installed by default. Hence, we do it here if necessary\n",
        "    !pip install --quiet pytorch-lightning>=1.4\n",
        "    import pytorch_lightning as pl\n",
        "from pytorch_lightning.callbacks import LearningRateMonitor, ModelCheckpoint\n",
        "\n",
        "# Import tensorboard\n",
        "%load_ext tensorboard\n",
        "\n",
        "# Path to the folder where the datasets are/should be downloaded (e.g. CIFAR10)\n",
        "DATASET_PATH = \"../data\"\n",
        "# Path to the folder where the pretrained models are saved\n",
        "CHECKPOINT_PATH = \"../saved_models/tutorial15\"\n",
        "\n",
        "# Setting the seed\n",
        "pl.seed_everything(42)\n",
        "\n",
        "# Ensure that all operations are deterministic on GPU (if used) for reproducibility\n",
        "torch.backends.cudnn.deterministic = True\n",
        "torch.backends.cudnn.benchmark = False\n",
        "\n",
        "device = torch.device(\"cuda:0\") if torch.cuda.is_available() else torch.device(\"cpu\")\n",
        "print(\"Device:\", device)"
      ]
    },
    {
      "cell_type": "markdown",
      "metadata": {
        "id": "POnqtry1ESMk"
      },
      "source": [
        "We provide a pre-trained Vision Transformer which we download in the next cell. However, Vision Transformers can be relatively quickly trained on CIFAR10 with an overall training time of less than an hour on an NVIDIA TitanRTX. Feel free to experiment with training your own Transformer once you went through the whole notebook."
      ]
    },
    {
      "cell_type": "code",
      "execution_count": null,
      "metadata": {
        "id": "qLfp4Ew6-8_M"
      },
      "outputs": [],
      "source": [
        "import urllib.request\n",
        "from urllib.error import HTTPError\n",
        "# Github URL where saved models are stored for this tutorial\n",
        "base_url = \"https://raw.githubusercontent.com/phlippe/saved_models/main/\"\n",
        "# Files to download\n",
        "pretrained_files = [\"tutorial15/ViT.ckpt\", \"tutorial15/tensorboards/ViT/events.out.tfevents.ViT\",\n",
        "                    \"tutorial5/tensorboards/ResNet/events.out.tfevents.resnet\"]\n",
        "# Create checkpoint path if it doesn't exist yet\n",
        "os.makedirs(CHECKPOINT_PATH, exist_ok=True)\n",
        "\n",
        "# For each file, check whether it already exists. If not, try downloading it.\n",
        "for file_name in pretrained_files:\n",
        "    file_path = os.path.join(CHECKPOINT_PATH, file_name.split(\"/\",1)[1])\n",
        "    if \"/\" in file_name.split(\"/\",1)[1]:\n",
        "        os.makedirs(file_path.rsplit(\"/\",1)[0], exist_ok=True)\n",
        "    if not os.path.isfile(file_path):\n",
        "        file_url = base_url + file_name\n",
        "        print(f\"Downloading {file_url}...\")\n",
        "        try:\n",
        "            urllib.request.urlretrieve(file_url, file_path)\n",
        "        except HTTPError as e:\n",
        "            print(\"Something went wrong. Please try to download the file from the GDrive folder, or contact the author with the full output including the following error:\\n\", e)"
      ]
    },
    {
      "cell_type": "markdown",
      "metadata": {
        "id": "HEgQPQnuEYTd"
      },
      "source": [
        "We load the CIFAR10 dataset below. We use the same setup of the datasets and data augmentations as for the CNNs. The constants in the transforms.Normalize correspond to the values that scale and shift the data to a zero mean and standard deviation of one.\n",
        "\n"
      ]
    },
    {
      "cell_type": "code",
      "execution_count": null,
      "metadata": {
        "id": "ZPb9dO0_-9Bk"
      },
      "outputs": [],
      "source": [
        "test_transform = transforms.Compose([transforms.ToTensor(),\n",
        "                                     transforms.Normalize([0.49139968, 0.48215841, 0.44653091], [0.24703223, 0.24348513, 0.26158784])\n",
        "                                     ])\n",
        "# For training, we add some augmentation. Networks are too powerful and would overfit.\n",
        "train_transform = transforms.Compose([transforms.RandomHorizontalFlip(),\n",
        "                                      transforms.RandomResizedCrop((32,32),scale=(0.8,1.0),ratio=(0.9,1.1)),\n",
        "                                      transforms.ToTensor(),\n",
        "                                      transforms.Normalize([0.49139968, 0.48215841, 0.44653091], [0.24703223, 0.24348513, 0.26158784])\n",
        "                                     ])\n",
        "# Loading the training dataset. We need to split it into a training and validation part\n",
        "# We need to do a little trick because the validation set should not use the augmentation.\n",
        "train_dataset = CIFAR10(root=DATASET_PATH, train=True, transform=train_transform, download=True)\n",
        "val_dataset = CIFAR10(root=DATASET_PATH, train=True, transform=test_transform, download=True)\n",
        "pl.seed_everything(42)\n",
        "train_set, _ = torch.utils.data.random_split(train_dataset, [45000, 5000])\n",
        "pl.seed_everything(42)\n",
        "_, val_set = torch.utils.data.random_split(val_dataset, [45000, 5000])\n",
        "\n",
        "# Loading the test set\n",
        "test_set = CIFAR10(root=DATASET_PATH, train=False, transform=test_transform, download=True)\n",
        "\n",
        "# We define a set of data loaders that we can use for various purposes later.\n",
        "train_loader = data.DataLoader(train_set, batch_size=128, shuffle=True, drop_last=True, pin_memory=True, num_workers=4)\n",
        "val_loader = data.DataLoader(val_set, batch_size=128, shuffle=False, drop_last=False, num_workers=4)\n",
        "test_loader = data.DataLoader(test_set, batch_size=128, shuffle=False, drop_last=False, num_workers=4)\n",
        "\n",
        "# Visualize some examples\n",
        "NUM_IMAGES = 4\n",
        "CIFAR_images = torch.stack([val_set[idx][0] for idx in range(NUM_IMAGES)], dim=0)\n",
        "img_grid = torchvision.utils.make_grid(CIFAR_images, nrow=4, normalize=True, pad_value=0.9)\n",
        "img_grid = img_grid.permute(1, 2, 0)\n",
        "\n",
        "plt.figure(figsize=(8,8))\n",
        "plt.title(\"Image examples of the CIFAR10 dataset\")\n",
        "plt.imshow(img_grid)\n",
        "plt.axis('off')\n",
        "plt.show()\n",
        "plt.close()"
      ]
    },
    {
      "cell_type": "markdown",
      "metadata": {
        "id": "NIgHebcYEjC0"
      },
      "source": [
        "## Transformers for image classification\n",
        "\n",
        "Transformers have been originally proposed to process sets since it is a permutation-equivariant architecture, i.e., producing the same output permuted if the input is permuted. To apply Transformers to sequences, we have simply added a positional encoding to the input feature vectors, and the model learned by itself what to do with it. So, why not do the same thing on images? This is exactly what Alexey Dosovitskiy et al. proposed in their paper “An Image is Worth 16x16 Words: Transformers for Image Recognition at Scale”. Specifically, the Vision Transformer is a model for image classification that views images as sequences of smaller patches. As a preprocessing step, we split an image of, for example, $48\\times48$ pixels into 9 $16\\times16$ patches. Each of those patches is considered to be a “word”/“token” and projected to a feature space. With adding positional encodings and a token for classification on top, we can apply a Transformer as usual to this sequence and start training it for our task. A nice GIF visualization of the architecture is shown below (figure credit - Phil Wang):"
      ]
    },
    {
      "cell_type": "markdown",
      "metadata": {
        "id": "Dk1yXdA4GG5l"
      },
      "source": [
        "We will walk step by step through the Vision Transformer, and implement all parts by ourselves. First, let's implement the image preprocessing: an image of size $N*N$ has to be split into $(N/M)^2$ patches of size $M*M$. These represent the input words to the Transformer."
      ]
    },
    {
      "cell_type": "code",
      "execution_count": null,
      "metadata": {
        "id": "lzKZn1xq-9D5"
      },
      "outputs": [],
      "source": [
        "def img_to_patch(x, patch_size, flatten_channels=True):\n",
        "    \"\"\"\n",
        "    Inputs:\n",
        "        x - torch.Tensor representing the image of shape [B, C, H, W]\n",
        "        patch_size - Number of pixels per dimension of the patches (integer)\n",
        "        flatten_channels - If True, the patches will be returned in a flattened format\n",
        "                           as a feature vector instead of a image grid.\n",
        "    \"\"\"\n",
        "    B, C, H, W = x.shape\n",
        "    x = x.reshape(B, C, H//patch_size, patch_size, W//patch_size, patch_size)\n",
        "    x = x.permute(0, 2, 4, 1, 3, 5) # [B, H', W', C, p_H, p_W]\n",
        "    x = x.flatten(1,2)              # [B, H'*W', C, p_H, p_W]\n",
        "    if flatten_channels:\n",
        "        x = x.flatten(2,4)          # [B, H'*W', C*p_H*p_W]\n",
        "    return x"
      ]
    },
    {
      "cell_type": "markdown",
      "metadata": {
        "id": "dGVhoRjAFAKJ"
      },
      "source": [
        "Let's take a look at how that works for our CIFAR examples above. For our images of size $32×32$, we choose a patch size of 4. Hence, we obtain sequences of 64 patches of size $4×4$. We visualize them below:"
      ]
    },
    {
      "cell_type": "code",
      "execution_count": null,
      "metadata": {
        "id": "lGY4BHs0-9GO"
      },
      "outputs": [],
      "source": [
        "img_patches = img_to_patch(CIFAR_images, patch_size=4, flatten_channels=False)\n",
        "\n",
        "fig, ax = plt.subplots(CIFAR_images.shape[0], 1, figsize=(14,3))\n",
        "fig.suptitle(\"Images as input sequences of patches\")\n",
        "for i in range(CIFAR_images.shape[0]):\n",
        "    img_grid = torchvision.utils.make_grid(img_patches[i], nrow=64, normalize=True, pad_value=0.9)\n",
        "    img_grid = img_grid.permute(1, 2, 0)\n",
        "    ax[i].imshow(img_grid)\n",
        "    ax[i].axis('off')\n",
        "plt.show()\n",
        "plt.close()"
      ]
    },
    {
      "cell_type": "markdown",
      "metadata": {
        "id": "xx5IcoBFFiqp"
      },
      "source": [
        "Compared to the original images, it is much harder to recognize the objects from those patch lists now. Still, this is the input we provide to the Transformer for classifying the images. The model has to learn itself how it has to combine the patches to recognize the objects. The inductive bias in CNNs that an image is a grid of pixels, is lost in this input format.\n",
        "\n",
        "After we have looked at the preprocessing, we can now start building the Transformer model. Since we have discussed the fundamentals of Multi-Head Attention, we will use the PyTorch module nn.MultiheadAttention here. Further, we use the Pre-Layer Normalization version of the Transformer blocks proposed by Ruibin Xiong et al. in 2020. The idea is to apply Layer Normalization not in between residual blocks, but instead as a first layer in the residual blocks. This reorganization of the layers supports better gradient flow and removes the necessity of a warm-up stage. A visualization of the difference between the standard Post-LN and the Pre-LN version is shown below.![pre_layer_norm.svg](data:image/svg+xml;base64,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)\n"
      ]
    },
    {
      "cell_type": "markdown",
      "metadata": {
        "id": "_39rums2IGcK"
      },
      "source": [
        "The implementation of the Pre-LN attention block looks as follows:\n",
        "\n"
      ]
    },
    {
      "cell_type": "code",
      "execution_count": null,
      "metadata": {
        "id": "-8k3kev--9Il"
      },
      "outputs": [],
      "source": [
        "class AttentionBlock(nn.Module):\n",
        "\n",
        "    def __init__(self, embed_dim, hidden_dim, num_heads, dropout=0.0):\n",
        "        \"\"\"\n",
        "        Inputs:\n",
        "            embed_dim - Dimensionality of input and attention feature vectors\n",
        "            hidden_dim - Dimensionality of hidden layer in feed-forward network\n",
        "                         (usually 2-4x larger than embed_dim)\n",
        "            num_heads - Number of heads to use in the Multi-Head Attention block\n",
        "            dropout - Amount of dropout to apply in the feed-forward network\n",
        "        \"\"\"\n",
        "        super().__init__()\n",
        "\n",
        "        self.layer_norm_1 = nn.LayerNorm(embed_dim)\n",
        "        self.attn = nn.MultiheadAttention(embed_dim, num_heads,\n",
        "                                          dropout=dropout)\n",
        "        self.layer_norm_2 = nn.LayerNorm(embed_dim)\n",
        "        self.linear = nn.Sequential(\n",
        "            nn.Linear(embed_dim, hidden_dim),\n",
        "            nn.GELU(),\n",
        "            nn.Dropout(dropout),\n",
        "            nn.Linear(hidden_dim, embed_dim),\n",
        "            nn.Dropout(dropout)\n",
        "        )\n",
        "\n",
        "\n",
        "    def forward(self, x):\n",
        "        inp_x = self.layer_norm_1(x)\n",
        "        x = x + self.attn(inp_x, inp_x, inp_x)[0]\n",
        "        x = x + self.linear(self.layer_norm_2(x))\n",
        "        return x"
      ]
    },
    {
      "cell_type": "markdown",
      "metadata": {
        "id": "1F_knLsBIKAd"
      },
      "source": [
        "Now we have all modules ready to build our own Vision Transformer. Besides the Transformer encoder, we need the following modules:\n",
        "\n",
        "*   A linear projection layer that maps the input patches to a feature vector of larger size. It is implemented by a simple linear layer that takes each\n",
        " patch independently as input.\n",
        "\n",
        "*   A classification token that is added to the input sequence. We will use the output feature vector of the classification token (CLS token in short) for determining the classification prediction.\n",
        "\n",
        "*   Learnable positional encodings that are added to the tokens before being processed by the Transformer. Those are needed to learn position-dependent information, and convert the set to a sequence. Since we usually work with a fixed resolution, we can learn the positional encodings instead of having the pattern of sine and cosine functions.\n",
        "\n",
        "*   An MLP head that takes the output feature vector of the CLS token, and maps it to a classification prediction. This is usually implemented by a small feed-forward network or even a single linear layer.\n",
        "\n",
        "With those components in mind, let's implement the full Vision Transformer below:\n",
        "\n"
      ]
    },
    {
      "cell_type": "code",
      "execution_count": null,
      "metadata": {
        "id": "DlpXwkIf-9Ks"
      },
      "outputs": [],
      "source": [
        "class VisionTransformer(nn.Module):\n",
        "\n",
        "    def __init__(self, embed_dim, hidden_dim, num_channels, num_heads, num_layers, num_classes, patch_size, num_patches, dropout=0.0):\n",
        "        \"\"\"\n",
        "        Inputs:\n",
        "            embed_dim - Dimensionality of the input feature vectors to the Transformer\n",
        "            hidden_dim - Dimensionality of the hidden layer in the feed-forward networks\n",
        "                         within the Transformer\n",
        "            num_channels - Number of channels of the input (3 for RGB)\n",
        "            num_heads - Number of heads to use in the Multi-Head Attention block\n",
        "            num_layers - Number of layers to use in the Transformer\n",
        "            num_classes - Number of classes to predict\n",
        "            patch_size - Number of pixels that the patches have per dimension\n",
        "            num_patches - Maximum number of patches an image can have\n",
        "            dropout - Amount of dropout to apply in the feed-forward network and\n",
        "                      on the input encoding\n",
        "        \"\"\"\n",
        "        super().__init__()\n",
        "\n",
        "        self.patch_size = patch_size\n",
        "\n",
        "        # Layers/Networks\n",
        "        self.input_layer = nn.Linear(num_channels*(patch_size**2), embed_dim)\n",
        "        self.transformer = nn.Sequential(*[AttentionBlock(embed_dim, hidden_dim, num_heads, dropout=dropout) for _ in range(num_layers)])\n",
        "        self.mlp_head = nn.Sequential(\n",
        "            nn.LayerNorm(embed_dim),\n",
        "            nn.Linear(embed_dim, num_classes)\n",
        "        )\n",
        "        self.dropout = nn.Dropout(dropout)\n",
        "\n",
        "        # Parameters/Embeddings\n",
        "        self.cls_token = nn.Parameter(torch.randn(1,1,embed_dim))\n",
        "        self.pos_embedding = nn.Parameter(torch.randn(1,1+num_patches,embed_dim))\n",
        "\n",
        "\n",
        "    def forward(self, x):\n",
        "        # Preprocess input\n",
        "        x = img_to_patch(x, self.patch_size)\n",
        "        B, T, _ = x.shape\n",
        "        x = self.input_layer(x)\n",
        "\n",
        "        # Add CLS token and positional encoding\n",
        "        cls_token = self.cls_token.repeat(B, 1, 1)\n",
        "        x = torch.cat([cls_token, x], dim=1)\n",
        "        x = x + self.pos_embedding[:,:T+1]\n",
        "\n",
        "        # Apply Transforrmer\n",
        "        x = self.dropout(x)\n",
        "        x = x.transpose(0, 1)\n",
        "        x = self.transformer(x)\n",
        "\n",
        "        # Perform classification prediction\n",
        "        cls = x[0]\n",
        "        out = self.mlp_head(cls)\n",
        "        return out"
      ]
    },
    {
      "cell_type": "markdown",
      "metadata": {
        "id": "jsLxrlIqIWXd"
      },
      "source": [
        "Finally, we can put everything into a PyTorch Lightning Module as usual. We use torch.optim.AdamW as the optimizer, which is Adam with a corrected weight decay implementation. Since we use the Pre-LN Transformer version, we do not need to use a learning rate warmup stage anymore. Instead, we use the same learning rate scheduler as the CNNs on image classification."
      ]
    },
    {
      "cell_type": "code",
      "execution_count": null,
      "metadata": {
        "id": "dJ0no3W5-9My"
      },
      "outputs": [],
      "source": [
        "class ViT(pl.LightningModule):\n",
        "\n",
        "    def __init__(self, model_kwargs, lr):\n",
        "        super().__init__()\n",
        "        self.save_hyperparameters()\n",
        "        self.model = VisionTransformer(**model_kwargs)\n",
        "        self.example_input_array = next(iter(train_loader))[0]\n",
        "\n",
        "    def forward(self, x):\n",
        "        return self.model(x)\n",
        "\n",
        "    def configure_optimizers(self):\n",
        "        optimizer = optim.AdamW(self.parameters(), lr=self.hparams.lr)\n",
        "        lr_scheduler = optim.lr_scheduler.MultiStepLR(optimizer, milestones=[100,150], gamma=0.1)\n",
        "        return [optimizer], [lr_scheduler]\n",
        "\n",
        "    def _calculate_loss(self, batch, mode=\"train\"):\n",
        "        imgs, labels = batch\n",
        "        preds = self.model(imgs)\n",
        "        loss = F.cross_entropy(preds, labels)\n",
        "        acc = (preds.argmax(dim=-1) == labels).float().mean()\n",
        "\n",
        "        self.log(f'{mode}_loss', loss)\n",
        "        self.log(f'{mode}_acc', acc)\n",
        "        return loss\n",
        "\n",
        "    def training_step(self, batch, batch_idx):\n",
        "        loss = self._calculate_loss(batch, mode=\"train\")\n",
        "        return loss\n",
        "\n",
        "    def validation_step(self, batch, batch_idx):\n",
        "        self._calculate_loss(batch, mode=\"val\")\n",
        "\n",
        "    def test_step(self, batch, batch_idx):\n",
        "        self._calculate_loss(batch, mode=\"test\")"
      ]
    },
    {
      "cell_type": "markdown",
      "metadata": {
        "id": "fWaDwwZldn8T"
      },
      "source": [
        "## ViT Inference"
      ]
    },
    {
      "cell_type": "markdown",
      "metadata": {
        "id": "usEUssd9ZD1D"
      },
      "source": [
        "### Inference latency with different layers"
      ]
    },
    {
      "cell_type": "code",
      "execution_count": null,
      "metadata": {
        "id": "CEn_E-AlVzCK"
      },
      "outputs": [],
      "source": [
        "import time\n",
        "def test_inference_time(model, input_tensor, num_runs=100, device='cuda' if torch.cuda.is_available() else 'cpu'):\n",
        "    \"\"\"\n",
        "    Test the inference runtime of the VisionTransformer model.\n",
        "\n",
        "    Parameters:\n",
        "        model: VisionTransformer model instance\n",
        "        input_tensor: Input tensor, shape (batch_size, num_channels, height, width)\n",
        "        num_runs: Number of inference runs to compute average time\n",
        "        device: Device to run on ('cuda' or 'cpu')\n",
        "\n",
        "    Returns:\n",
        "        avg_time: Average inference time per run (seconds)\n",
        "    \"\"\"\n",
        "    # Move model and input to the specified device\n",
        "    model = model.to(device)\n",
        "    input_tensor = input_tensor.to(device)\n",
        "\n",
        "    # Set model to evaluation mode\n",
        "    model.eval()\n",
        "\n",
        "    # Warm-up runs to eliminate initial run overhead\n",
        "    with torch.no_grad():\n",
        "        for _ in range(100):\n",
        "            _ = model(input_tensor)\n",
        "\n",
        "    # Record inference time\n",
        "    total_time = 0.0\n",
        "    with torch.no_grad():\n",
        "        for _ in range(num_runs):\n",
        "            start_time = time.time()\n",
        "            _ = model(input_tensor)\n",
        "            torch.cuda.synchronize() if device == 'cuda' else None  # Ensure GPU execution is complete\n",
        "            end_time = time.time()\n",
        "            total_time += (end_time - start_time)\n",
        "\n",
        "    # Calculate average inference time\n",
        "    avg_time = total_time / num_runs\n",
        "    print(f\"Average inference time over {num_runs} runs: {avg_time:.6f} seconds\")\n",
        "\n",
        "    return avg_time"
      ]
    },
    {
      "cell_type": "code",
      "execution_count": null,
      "metadata": {
        "id": "OgXLj4RTV4qP"
      },
      "outputs": [],
      "source": [
        "# Model parameters\n",
        "model_kwargs = {\n",
        "    'embed_dim': 256,\n",
        "    'hidden_dim': 512,\n",
        "    'num_channels': 3,\n",
        "    'num_heads': 8,\n",
        "    'num_layers': 3,\n",
        "    'num_classes': 10,\n",
        "    'patch_size': 4,\n",
        "    'num_patches': 64,\n",
        "    'dropout': 0.2\n",
        "}\n",
        "\n",
        "# Initialize the model\n",
        "model = VisionTransformer(**model_kwargs)\n",
        "\n",
        "# Create example input tensor (batch_size=32, 3 channels, 32x32 images)\n",
        "batch_size = 32\n",
        "input_tensor = torch.randn(batch_size, 3, 32, 32)\n",
        "\n",
        "# Test inference time\n",
        "avg_time = test_inference_time(model, input_tensor, num_runs=1000)"
      ]
    },
    {
      "cell_type": "markdown",
      "metadata": {
        "id": "vf28PdOnZMx4"
      },
      "source": [
        "### Inference latency V.S. layer numbers"
      ]
    },
    {
      "cell_type": "code",
      "execution_count": null,
      "metadata": {
        "id": "A2SaR63xYm3H"
      },
      "outputs": [],
      "source": [
        "def test_latency_vs_layers(model_kwargs, input_tensor, layer_range, num_runs=100, device='cuda' if torch.cuda.is_available() else 'cpu'):\n",
        "    \"\"\"\n",
        "    Test the inference latency of VisionTransformer with different numbers of layers and plot the results.\n",
        "\n",
        "    Parameters:\n",
        "        model_kwargs: Dictionary of initialization parameters for VisionTransformer\n",
        "        input_tensor: Input tensor, shape (batch_size, num_channels, height, width)\n",
        "        layer_range: Range of layer counts to test (list or range)\n",
        "        num_runs: Number of inference runs per test\n",
        "        device: Device to run on ('cuda' or 'cpu')\n",
        "\n",
        "    Returns:\n",
        "        latencies: List of average inference times for each layer count\n",
        "    \"\"\"\n",
        "    latencies = []\n",
        "\n",
        "    for num_layers in layer_range:\n",
        "        print(f\"\\nTesting with {num_layers} layers...\")\n",
        "        model_kwargs['num_layers'] = num_layers\n",
        "        model = VisionTransformer(**model_kwargs)\n",
        "        avg_time = test_inference_time(model, input_tensor, num_runs, device)\n",
        "        latencies.append(avg_time)\n",
        "\n",
        "    # Plot the chart\n",
        "    plt.figure(figsize=(10, 6))\n",
        "    plt.plot(layer_range, latencies, marker='o', linestyle='-', color='b', label='Inference Latency')\n",
        "    plt.title('Inference Latency vs. Number of Transformer Layers')\n",
        "    plt.xlabel('Number of Layers')\n",
        "    plt.ylabel('Average Inference Time (seconds)')\n",
        "    plt.grid(True)\n",
        "    plt.legend()\n",
        "    plt.show()\n",
        "\n",
        "    return latencies"
      ]
    },
    {
      "cell_type": "code",
      "execution_count": null,
      "metadata": {
        "id": "qtSE3056YrRy"
      },
      "outputs": [],
      "source": [
        "# test different layer number\n",
        "layer_range = range(1, 13)\n",
        "latencies = test_latency_vs_layers(model_kwargs, input_tensor, layer_range, num_runs=1000)\n",
        "\n",
        "for layers, latency in zip(layer_range, latencies):\n",
        "    print(f\"Layers: {layers}, Latency: {latency:.6f} seconds\")"
      ]
    },
    {
      "cell_type": "markdown",
      "metadata": {
        "id": "hnDswUMzcTTO"
      },
      "source": [
        "### Inference latency V.S. head number"
      ]
    },
    {
      "cell_type": "code",
      "execution_count": null,
      "metadata": {
        "id": "QbP74RPyZk9w"
      },
      "outputs": [],
      "source": [
        "def test_latency_vs_heads(model_kwargs, input_tensor, head_range, num_runs=100, device='cuda' if torch.cuda.is_available() else 'cpu'):\n",
        "    \"\"\"\n",
        "    Test the inference latency of VisionTransformer with different numbers of attention heads and plot the results.\n",
        "\n",
        "    Parameters:\n",
        "        model_kwargs: Dictionary of initialization parameters for VisionTransformer\n",
        "        input_tensor: Input tensor, shape (batch_size, num_channels, height, width)\n",
        "        head_range: Range of attention head counts to test (list or range)\n",
        "        num_runs: Number of inference runs per test\n",
        "        device: Device to run on ('cuda' or 'cpu')\n",
        "\n",
        "    Returns:\n",
        "        latencies: List of average inference times for each head count\n",
        "        valid_heads: List of valid head counts tested\n",
        "    \"\"\"\n",
        "    embed_dim = model_kwargs['embed_dim']\n",
        "    # Filter valid num_heads to ensure embed_dim is divisible by num_heads\n",
        "    valid_heads = [h for h in head_range if embed_dim % h == 0]\n",
        "    if not valid_heads:\n",
        "        raise ValueError(f\"No valid num_heads in {head_range} can divide embed_dim={embed_dim}\")\n",
        "\n",
        "    latencies = []\n",
        "\n",
        "    for num_heads in valid_heads:\n",
        "        print(f\"\\nTesting with {num_heads} heads...\")\n",
        "        model_kwargs['num_heads'] = num_heads\n",
        "        model = VisionTransformer(**model_kwargs)\n",
        "        avg_time = test_inference_time(model, input_tensor, num_runs, device)\n",
        "        latencies.append(avg_time)\n",
        "\n",
        "    # Plot the chart\n",
        "    plt.figure(figsize=(10, 6))\n",
        "    plt.plot(valid_heads, latencies, marker='o', linestyle='-', color='b', label='Inference Latency')\n",
        "    plt.title('Inference Latency vs. Number of Attention Heads')\n",
        "    plt.xlabel('Number of Attention Heads')\n",
        "    plt.ylabel('Average Inference Time (seconds)')\n",
        "    plt.grid(True)\n",
        "    plt.legend()\n",
        "\n",
        "    plt.show()\n",
        "\n",
        "    return latencies, valid_heads"
      ]
    },
    {
      "cell_type": "code",
      "execution_count": null,
      "metadata": {
        "id": "xSXILExvZtNz"
      },
      "outputs": [],
      "source": [
        "# inference latency with different head range\n",
        "head_range = [2, 4, 8, 16, 32, ]\n",
        "latencies, valid_heads = test_latency_vs_heads(model_kwargs, input_tensor, head_range, num_runs=1000)\n",
        "\n",
        "for heads, latency in zip(valid_heads, latencies):\n",
        "    print(f\"Heads: {heads}, Latency: {latency:.6f} seconds\")"
      ]
    },
    {
      "cell_type": "markdown",
      "metadata": {
        "id": "AHUgnLR_Ij_X"
      },
      "source": [
        "### ViT Training\n",
        "Commonly, Vision Transformers are applied to large-scale image classification benchmarks such as ImageNet to leverage their full potential. However, here we take a step back and ask: can Vision Transformer also succeed on classical, small benchmarks such as CIFAR10? To find this out, we train a Vision Transformer from scratch on the CIFAR10 dataset. Let’s first create a training function for our PyTorch Lightning module which also loads the pre-trained model if you have downloaded it above."
      ]
    },
    {
      "cell_type": "code",
      "execution_count": null,
      "metadata": {
        "id": "NW2ZwwVy-9PD"
      },
      "outputs": [],
      "source": [
        "def train_model(**kwargs):\n",
        "    trainer = pl.Trainer(default_root_dir=os.path.join(CHECKPOINT_PATH, \"ViT\"),\n",
        "                         accelerator=\"gpu\" if str(device).startswith(\"cuda\") else \"cpu\",\n",
        "                         devices=1,\n",
        "                         max_epochs=180,\n",
        "                         callbacks=[ModelCheckpoint(save_weights_only=True, mode=\"max\", monitor=\"val_acc\"),\n",
        "                                    LearningRateMonitor(\"epoch\")])\n",
        "    trainer.logger._log_graph = True         # If True, we plot the computation graph in tensorboard\n",
        "    trainer.logger._default_hp_metric = None # Optional logging argument that we don't need\n",
        "\n",
        "    # Check whether pretrained model exists. If yes, load it and skip training\n",
        "    pretrained_filename = os.path.join(CHECKPOINT_PATH, \"ViT.ckpt\")\n",
        "    if os.path.isfile(pretrained_filename):\n",
        "        print(f\"Found pretrained model at {pretrained_filename}, loading...\")\n",
        "        model = ViT.load_from_checkpoint(pretrained_filename) # Automatically loads the model with the saved hyperparameters\n",
        "    else:\n",
        "        pl.seed_everything(42) # To be reproducable\n",
        "        model = ViT(**kwargs)\n",
        "        trainer.fit(model, train_loader, val_loader)\n",
        "        model = ViT.load_from_checkpoint(trainer.checkpoint_callback.best_model_path) # Load best checkpoint after training\n",
        "\n",
        "    # Test best model on validation and test set\n",
        "    val_result = trainer.test(model, val_loader, verbose=False)\n",
        "    test_result = trainer.test(model, test_loader, verbose=False)\n",
        "    result = {\"test\": test_result[0][\"test_acc\"], \"val\": val_result[0][\"test_acc\"]}\n",
        "\n",
        "    return model, result"
      ]
    },
    {
      "cell_type": "markdown",
      "metadata": {
        "id": "5WdWJGFfIotd"
      },
      "source": [
        "Now, we can already start training our model. As seen in our implementation, we have a couple of hyperparameters that we have to set. When creating this notebook, we have performed a small grid search over hyperparameters and listed the best hyperparameters in the cell below. Nevertheless, it is worth discussing the influence that each hyperparameter has, and what intuition we have for choosing its value.\n",
        "\n",
        "First, let's consider the patch size. The smaller we make the patches, the longer the input sequences to the Transformer become. While in general, this allows the Transformer to model more complex functions, it requires a longer computation time due to its quadratic memory usage in the attention layer. Furthermore, small patches can make the task more difficult since the Transformer has to learn which patches are close-by, and which are far away. We experimented with patch sizes of 2, 4, and 8 which gives us the input sequence lengths of 256, 64, and 16 respectively. We found 4 to result in the best performance and hence pick it below.\n",
        "\n",
        "Next, the embedding and hidden dimensionality have a similar impact on a Transformer as to an MLP. The larger the sizes, the more complex the model becomes, and the longer it takes to train. In Transformers, however, we have one more aspect to consider: the query-key sizes in the Multi-Head Attention layers. Each key has the feature dimensionality of embed_dim/num_heads. Considering that we have an input sequence length of 64, a minimum reasonable size for the key vectors is 16 or 32. Lower dimensionalities can restrain the possible attention maps too much. We observed that more than 8 heads are not necessary for the Transformer, and therefore pick an embedding dimensionality of 256. The hidden dimensionality in the feed-forward networks is usually 2-4x larger than the embedding dimensionality, and thus we pick 512.\n",
        "\n",
        "Finally, the learning rate for Transformers is usually relatively small, and in papers, a common value to use is 3e-5. However, since we work with a smaller dataset and have a potentially easier task, we found that we are able to increase the learning rate to 3e-4 without any problems. To reduce overfitting, we use a dropout value of 0.2. Remember that we also use small image augmentations as regularization during training.\n",
        "\n",
        "Feel free to explore the hyperparameters yourself by changing the values below. In general, the Vision Transformer did not show to be too sensitive to the hyperparameter choices on the CIFAR10 dataset."
      ]
    },
    {
      "cell_type": "code",
      "execution_count": null,
      "metadata": {
        "id": "n8xGv0Kz-9Rc"
      },
      "outputs": [],
      "source": [
        "model, results = train_model(model_kwargs={\n",
        "                                'embed_dim': 256,\n",
        "                                'hidden_dim': 512,\n",
        "                                'num_heads': 8,\n",
        "                                'num_layers': 6,\n",
        "                                'patch_size': 4,\n",
        "                                'num_channels': 3,\n",
        "                                'num_patches': 64,\n",
        "                                'num_classes': 10,\n",
        "                                'dropout': 0.2\n",
        "                            },\n",
        "                            lr=3e-4)\n",
        "print(\"ViT results\", results)"
      ]
    },
    {
      "cell_type": "markdown",
      "metadata": {
        "id": "oL4vPjG2ZF-F"
      },
      "source": [
        "### Change the parameters and retrain the ViT, below is an example of patch size/number of patches\n",
        "###Take away: Transformer training takes a lot of time!!"
      ]
    },
    {
      "cell_type": "code",
      "execution_count": null,
      "metadata": {
        "id": "jhyqGReFXTxC"
      },
      "outputs": [],
      "source": [
        "# always train\n",
        "def train_model(**kwargs):\n",
        "    trainer = pl.Trainer(default_root_dir=os.path.join(CHECKPOINT_PATH, \"ViT\"),\n",
        "                         accelerator=\"gpu\" if str(device).startswith(\"cuda\") else \"cpu\",\n",
        "                         devices=1,\n",
        "                         max_epochs=180,\n",
        "                         callbacks=[ModelCheckpoint(save_weights_only=True, mode=\"max\", monitor=\"val_acc\"),\n",
        "                                    LearningRateMonitor(\"epoch\")])\n",
        "    trainer.logger._log_graph = True         # If True, we plot the computation graph in tensorboard\n",
        "    trainer.logger._default_hp_metric = None # Optional logging argument that we don't need\n",
        "\n",
        "    # Check whether pretrained model exists. If yes, load it and skip training\n",
        "    pretrained_filename = os.path.join(CHECKPOINT_PATH, \"ViT.ckpt\")\n",
        "    # if os.path.isfile(pretrained_filename):\n",
        "    #     print(f\"Found pretrained model at {pretrained_filename}, loading...\")\n",
        "    #     model = ViT.load_from_checkpoint(pretrained_filename) # Automatically loads the model with the saved hyperparameters\n",
        "    # else:\n",
        "    pl.seed_everything(42) # To be reproducable\n",
        "    model = ViT(**kwargs)\n",
        "    trainer.fit(model, train_loader, val_loader)\n",
        "    model = ViT.load_from_checkpoint(trainer.checkpoint_callback.best_model_path) # Load best checkpoint after training\n",
        "\n",
        "    # Test best model on validation and test set\n",
        "    val_result = trainer.test(model, val_loader, verbose=False)\n",
        "    test_result = trainer.test(model, test_loader, verbose=False)\n",
        "    result = {\"test\": test_result[0][\"test_acc\"], \"val\": val_result[0][\"test_acc\"]}\n",
        "\n",
        "    return model, result"
      ]
    },
    {
      "cell_type": "code",
      "execution_count": null,
      "metadata": {
        "id": "Oqy4gHi-Toem"
      },
      "outputs": [],
      "source": [
        "embed_dim_list = [128,256]\n",
        "hidden_dim = [256,512]\n",
        "num_heads_list = [4,8]\n",
        "num_layers=[4,8]\n",
        "patch_num=[[2,256],[8,16]]\n",
        "\n",
        "for i in range(len(patch_num)):\n",
        "  model, results = train_model(model_kwargs={\n",
        "                                  'embed_dim': 256,\n",
        "                                  'hidden_dim': 512,\n",
        "                                  'num_heads': 8,\n",
        "                                  'num_layers': 6,\n",
        "                                  'patch_size': patch_num[i][0],\n",
        "                                  'num_channels': 3,\n",
        "                                  'num_patches': patch_num[i][1],\n",
        "                                  'num_classes': 10,\n",
        "                                  'dropout': 0.2\n",
        "                              },\n",
        "                              lr=3e-4)\n",
        "  print(f\"patch size: {patch_num[i][0]}, patch number: {patch_num[i][1]},  ViT results\", results)"
      ]
    },
    {
      "cell_type": "markdown",
      "metadata": {
        "id": "wizMVW_Yb8h4"
      },
      "source": [
        "The Vision Transformer achieves a validation and test performance of about 75%. In comparison, almost all CNN architectures that we have tested obtained a classification performance of around 90%. This is a considerable gap and shows that although Vision Transformers perform strongly on ImageNet with potential pretraining, they cannot come close to simple CNNs on CIFAR10 when being trained from scratch. The differences between a CNN and Transformer can be well observed in the training curves.\n",
        "\n",
        "All those observed phenomenons can be explained with a concept that we have visited before: inductive biases. Convolutional Neural Networks have been designed with the assumption that images are translation invariant. Hence, we apply convolutions with shared filters across the image. Furthermore, a CNN architecture integrates the concept of distance in an image: two pixels that are close to each other are more related than two distant pixels. Local patterns are combined into larger patterns until we perform our classification prediction. All those aspects are inductive biases of a CNN. In contrast, a Vision Transformer does not know which two pixels are close to each other, and which are far apart. It has to learn this information solely from the sparse learning signal of the classification task. This is a huge disadvantage when we have a small dataset since such information is crucial for generalizing to an unseen test dataset. With large enough datasets and/or good pre-training, a Transformer can learn this information without the need for inductive biases, and instead is more flexible than a CNN. Especially long-distance relations between local patterns can be difficult to process in CNNs, while in Transformers, all patches have the distance of one. This is why Vision Transformers are so strong on large-scale datasets such as ImageNet but underperform a lot when being applied to a small dataset such as CIFAR10."
      ]
    }
  ],
  "metadata": {
    "accelerator": "GPU",
    "colab": {
      "gpuType": "T4",
      "provenance": []
    },
    "kernelspec": {
      "display_name": "Python 3",
      "name": "python3"
    },
    "language_info": {
      "codemirror_mode": {
        "name": "ipython",
        "version": 3
      },
      "file_extension": ".py",
      "mimetype": "text/x-python",
      "name": "python",
      "nbconvert_exporter": "python",
      "pygments_lexer": "ipython3",
      "version": "3.9.1"
    }
  },
  "nbformat": 4,
  "nbformat_minor": 0
}