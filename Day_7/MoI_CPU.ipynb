{
  "nbformat": 4,
  "nbformat_minor": 0,
  "metadata": {
    "colab": {
      "provenance": [],
      "gpuType": "V28"
    },
    "kernelspec": {
      "name": "python3",
      "display_name": "Python 3"
    },
    "language_info": {
      "name": "python"
    },
    "accelerator": "TPU"
  },
  "cells": [
    {
      "cell_type": "markdown",
      "source": [
        "# Matrix Multiplication on CPU: Optimizations and Insights\n",
        "\n",
        "In this notebook, we explore CPU implementations of matrix multiplication.\n",
        "We analyze various optimization techniques including:\n",
        "\n",
        "- **Naive implementation**\n",
        "- **Tiled execution**\n",
        "- **Unrolled loop**\n",
        "\n",
        "Each method aims to reduce global memory access and increase computation throughput."
      ],
      "metadata": {
        "id": "ykEh0znKcWLY"
      }
    },
    {
      "cell_type": "markdown",
      "source": [
        "## Preparing the required packages and initialisations\n"
      ],
      "metadata": {
        "id": "M077tMgTcttA"
      }
    },
    {
      "cell_type": "code",
      "execution_count": null,
      "metadata": {
        "id": "JIlacjVYWFiz"
      },
      "outputs": [],
      "source": [
        "import numpy as np\n",
        "import torch\n",
        "import time\n",
        "import matplotlib.pyplot as plt\n",
        "import pandas as pd"
      ]
    },
    {
      "cell_type": "code",
      "source": [
        "def benchmark(func, A, B, label, runs=3):\n",
        "    times = []\n",
        "    for _ in range(runs):\n",
        "        torch.cuda.empty_cache()\n",
        "        start = time.time()\n",
        "        _ = func(A, B)\n",
        "        torch.cuda.synchronize() if torch.cuda.is_available() else None\n",
        "        times.append(time.time() - start)\n",
        "    avg_time = sum(times) / len(times)\n",
        "    print(f\"{label}: {avg_time:.4f} seconds\")\n",
        "    return avg_time\n"
      ],
      "metadata": {
        "id": "-XDsr9h8XpWZ"
      },
      "execution_count": null,
      "outputs": []
    },
    {
      "cell_type": "markdown",
      "source": [
        "## Naive implementation"
      ],
      "metadata": {
        "id": "LazTdwW6c32e"
      }
    },
    {
      "cell_type": "code",
      "source": [
        "def matmul_naive_cpu(A, B):\n",
        "    \"\"\"Performs matrix multiplication using a naive algorithm.\"\"\"\n",
        "    C = np.zeros((A.shape[0], B.shape[1]))\n",
        "    for i in range(A.shape[0]):\n",
        "        for j in range(B.shape[1]):\n",
        "            for k in range(A.shape[1]):\n",
        "                C[i, j] += A[i, k] * B[k, j]\n",
        "    return C\n"
      ],
      "metadata": {
        "id": "1-2sJu8wWgmV"
      },
      "execution_count": null,
      "outputs": []
    },
    {
      "cell_type": "markdown",
      "source": [
        "## Tiled execution"
      ],
      "metadata": {
        "id": "r7K8klbXc5-v"
      }
    },
    {
      "cell_type": "code",
      "source": [
        "def matmul_tiled_cpu(A, B, tile_size=32):\n",
        "    \"\"\"Performs matrix multiplication with tiling.\"\"\"\n",
        "    C = np.zeros((A.shape[0], B.shape[1]))\n",
        "    for i in range(0, A.shape[0], tile_size):\n",
        "        for j in range(0, B.shape[1], tile_size):\n",
        "            for k in range(0, A.shape[1], tile_size):\n",
        "                for ii in range(i, min(i + tile_size, A.shape[0])):\n",
        "                    for jj in range(j, min(j + tile_size, B.shape[1])):\n",
        "                        for kk in range(k, min(k + tile_size, A.shape[1])):\n",
        "                            C[ii, jj] += A[ii, kk] * B[kk, jj]\n",
        "    return C"
      ],
      "metadata": {
        "id": "oBjgchBdc0uc"
      },
      "execution_count": null,
      "outputs": []
    },
    {
      "cell_type": "markdown",
      "source": [
        "## Unrolled loop"
      ],
      "metadata": {
        "id": "_rExlgU5c8KD"
      }
    },
    {
      "cell_type": "code",
      "source": [
        "def matmul_unrolled_cpu(A, B):\n",
        "  \"\"\"Performs matrix multiplication with loop unrolling.\"\"\"\n",
        "  C = np.zeros((A.shape[0], B.shape[1]))\n",
        "  for i in range(A.shape[0]):\n",
        "    for j in range(B.shape[1]):\n",
        "      sum_val = 0\n",
        "      for k in range(0, A.shape[1], 4): # Unroll by 4\n",
        "        sum_val += A[i, k] * B[k, j]\n",
        "        sum_val += A[i,k+1] * B[k+1, j]\n",
        "        sum_val += A[i,k+2] * B[k+2, j]\n",
        "        sum_val += A[i,k+3] * B[k+3, j]\n",
        "      C[i, j] = sum_val\n",
        "  return C"
      ],
      "metadata": {
        "id": "zBl65QZycxlL"
      },
      "execution_count": null,
      "outputs": []
    },
    {
      "cell_type": "markdown",
      "source": [
        "## Benchmarking"
      ],
      "metadata": {
        "id": "uG222Uw4dD1e"
      }
    },
    {
      "cell_type": "code",
      "source": [
        "# Problem size (adjust N for bigger test)\n",
        "N = 32\n",
        "assert(32 % 4 == 0) # To ensure nothing wrong happens with the unrolling\n",
        "A = torch.randn(N, N)\n",
        "B = torch.randn(N, N)\n",
        "\n",
        "results = {}\n",
        "\n",
        "# Run benchmarks\n",
        "results['CPU (unrolled)'] = benchmark(matmul_unrolled_cpu, A, B, 'CPU (unrolled)')\n",
        "results['CPU (tiled)'] = benchmark(matmul_tiled_cpu, A, B, 'CPU (tiled)')\n",
        "results['CPU (naive)'] = benchmark(matmul_naive_cpu, A, B, 'CPU (naive)')\n",
        "\n",
        "# Display results\n",
        "df = pd.DataFrame.from_dict(results, orient='index', columns=['Execution Time (s)'])\n",
        "df.plot(kind='barh', legend=False, figsize=(8, 4), title='Matrix Multiplication Performance')\n",
        "plt.xlabel('Time (seconds)')\n",
        "plt.grid(True)\n",
        "plt.show()\n"
      ],
      "metadata": {
        "colab": {
          "base_uri": "https://localhost:8080/",
          "height": 464
        },
        "id": "gwSQDJkBXq2D",
        "outputId": "b459219b-ea86-46d8-b479-271d6147f584"
      },
      "execution_count": null,
      "outputs": [
        {
          "output_type": "stream",
          "name": "stdout",
          "text": [
            "CPU (unrolled): 0.5274 seconds\n",
            "CPU (tiled): 0.8656 seconds\n",
            "CPU (naive): 0.9633 seconds\n"
          ]
        },
        {
          "output_type": "display_data",
          "data": {
            "text/plain": [
              "<Figure size 800x400 with 1 Axes>"
            ],
            "image/png": "[encoded data removed]"
          },
          "metadata": {}
        }
      ]
    }
  ]
}