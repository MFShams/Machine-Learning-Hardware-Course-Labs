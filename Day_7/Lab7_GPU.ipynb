{
  "nbformat": 4,
  "nbformat_minor": 0,
  "metadata": {
    "colab": {
      "provenance": [],
      "gpuType": "T4"
    },
    "kernelspec": {
      "name": "python3",
      "display_name": "Python 3"
    },
    "language_info": {
      "name": "python"
    },
    "accelerator": "GPU"
  },
  "cells": [
    {
      "cell_type": "markdown",
      "source": [
        "# Matrix Multiplication on GPU: Optimizations and Insights\n",
        "\n",
        "In this notebook, we explore GPU implementations of matrix multiplication.\n",
        "We analyze various optimization techniques including:\n",
        "\n",
        "- **Naive implementation**\n",
        "- **Shared memory tiling**\n",
        "- **Register tiling (+ shared memory)**\n",
        "\n",
        "Each method aims to reduce global memory access and increase computation throughput."
      ],
      "metadata": {
        "id": "GL7kt2L6bFJu"
      }
    },
    {
      "cell_type": "markdown",
      "source": [
        "## Preparing the required packages and initialisations\n"
      ],
      "metadata": {
        "id": "RiM7BDpobQm2"
      }
    },
    {
      "cell_type": "code",
      "source": [
        "pip install nvcc4jupyter"
      ],
      "metadata": {
        "colab": {
          "base_uri": "https://localhost:8080/"
        },
        "id": "shghUGPTqf-J",
        "outputId": "d3eee771-c83b-4d4a-d757-8052d8048a4b"
      },
      "execution_count": null,
      "outputs": [
        {
          "output_type": "stream",
          "name": "stdout",
          "text": [
            "Requirement already satisfied: nvcc4jupyter in /usr/local/lib/python3.11/dist-packages (1.2.1)\n"
          ]
        }
      ]
    },
    {
      "cell_type": "code",
      "source": [
        "%load_ext nvcc4jupyter"
      ],
      "metadata": {
        "colab": {
          "base_uri": "https://localhost:8080/"
        },
        "id": "E7Yn-HaGqld_",
        "outputId": "7ab9fd1c-4e75-4e54-e553-449ae1a936bb"
      },
      "execution_count": null,
      "outputs": [
        {
          "output_type": "stream",
          "name": "stdout",
          "text": [
            "The nvcc4jupyter extension is already loaded. To reload it, use:\n",
            "  %reload_ext nvcc4jupyter\n"
          ]
        }
      ]
    },
    {
      "cell_type": "code",
      "source": [
        "from nvcc4jupyter import set_defaults\n",
        "set_defaults(compiler_args=\"-arch=sm_75\")"
      ],
      "metadata": {
        "id": "3sa-EFG12uFP"
      },
      "execution_count": null,
      "outputs": []
    },
    {
      "cell_type": "code",
      "source": [
        "## Setting the matrix size"
      ],
      "metadata": {
        "id": "SAqJyxKUbbkM"
      },
      "execution_count": null,
      "outputs": []
    },
    {
      "cell_type": "code",
      "source": [
        "MATRIX_SIZE=8192\n",
        "SIZE_FILE = open(\"matrix.size\", \"w\")\n",
        "SIZE_FILE.write(str(MATRIX_SIZE))\n",
        "SIZE_FILE.close()"
      ],
      "metadata": {
        "id": "nxmjdWT8BmZo"
      },
      "execution_count": null,
      "outputs": []
    },
    {
      "cell_type": "markdown",
      "source": [
        "## Naive implementation"
      ],
      "metadata": {
        "id": "DTKQTch7bfQK"
      }
    },
    {
      "cell_type": "code",
      "source": [
        "%%cuda\n",
        "#include <iostream>\n",
        "#include <cstdlib>\n",
        "#include <cuda_runtime.h>\n",
        "#include <fstream>\n",
        "\n",
        "#define CUDA_CHECK(ans) { gpuAssert((ans), __FILE__, __LINE__); }\n",
        "\n",
        "inline void gpuAssert(cudaError_t code, const char *file, int line) {\n",
        "   if (code != cudaSuccess) {\n",
        "      std::cerr << \"CUDA Error: \" << cudaGetErrorString(code)\n",
        "                << \" \" << file << \":\" << line << std::endl;\n",
        "      exit(code);\n",
        "   }\n",
        "}\n",
        "\n",
        "__global__ void matMulKernel(float *A, float *B, float *C, int N) {\n",
        "    int row = blockIdx.y * blockDim.y + threadIdx.y;\n",
        "    int col = blockIdx.x * blockDim.x + threadIdx.x;\n",
        "\n",
        "    if (row < N && col < N) {\n",
        "        float sum = 0.0f;\n",
        "        for (int k = 0; k < N; ++k) {\n",
        "            sum += A[row * N + k] * B[k * N + col];\n",
        "        }\n",
        "        C[row * N + col] = sum;\n",
        "    }\n",
        "}\n",
        "\n",
        "void matMul(float *A, float *B, float *C, int N, float &ms) {\n",
        "    float *d_A, *d_B, *d_C;\n",
        "    size_t size = N * N * sizeof(float);\n",
        "\n",
        "    CUDA_CHECK(cudaMalloc(&d_A, size));\n",
        "    CUDA_CHECK(cudaMalloc(&d_B, size));\n",
        "    CUDA_CHECK(cudaMalloc(&d_C, size));\n",
        "\n",
        "    CUDA_CHECK(cudaMemcpy(d_A, A, size, cudaMemcpyHostToDevice));\n",
        "    CUDA_CHECK(cudaMemcpy(d_B, B, size, cudaMemcpyHostToDevice));\n",
        "\n",
        "    dim3 threadsPerBlock(16, 16);\n",
        "    dim3 numBlocks((N + 15) / 16, (N + 15) / 16);\n",
        "\n",
        "    cudaEvent_t start, stop;\n",
        "    CUDA_CHECK(cudaEventCreate(&start));\n",
        "    CUDA_CHECK(cudaEventCreate(&stop));\n",
        "    CUDA_CHECK(cudaEventRecord(start));\n",
        "\n",
        "    matMulKernel<<<numBlocks, threadsPerBlock>>>(d_A, d_B, d_C, N);\n",
        "\n",
        "    CUDA_CHECK(cudaEventRecord(stop));\n",
        "    CUDA_CHECK(cudaEventSynchronize(stop));\n",
        "    CUDA_CHECK(cudaEventElapsedTime(&ms, start, stop));\n",
        "\n",
        "    CUDA_CHECK(cudaMemcpy(C, d_C, size, cudaMemcpyDeviceToHost));\n",
        "\n",
        "    CUDA_CHECK(cudaFree(d_A));\n",
        "    CUDA_CHECK(cudaFree(d_B));\n",
        "    CUDA_CHECK(cudaFree(d_C));\n",
        "    CUDA_CHECK(cudaEventDestroy(start));\n",
        "    CUDA_CHECK(cudaEventDestroy(stop));\n",
        "}\n",
        "\n",
        "\n",
        "int main(int argc, char **argv) {\n",
        "\n",
        "    std::ifstream inSize(\"matrix.size\");\n",
        "    if (inSize.is_open() == false) {\n",
        "        std::cerr << \"Unable to open input file!\" << std::endl;\n",
        "        return 1;\n",
        "    }\n",
        "\n",
        "    int N;\n",
        "    inSize >> N;\n",
        "\n",
        "    const int size = N * N;\n",
        "    float *A = new float[size];\n",
        "    float *B = new float[size];\n",
        "    float *C = new float[size];\n",
        "\n",
        "    for (int i = 0; i < size; ++i) {\n",
        "        A[i] = static_cast<float>(rand()) / RAND_MAX;\n",
        "        B[i] = static_cast<float>(rand()) / RAND_MAX;\n",
        "    }\n",
        "\n",
        "    float ms = 0;\n",
        "    matMul(A, B, C, N, ms);\n",
        "\n",
        "    cudaError_t err = cudaGetLastError();\n",
        "    if (err != cudaSuccess) {\n",
        "        std::cerr << \"CUDA Error: \" << cudaGetErrorString(err) << std::endl;\n",
        "    }\n",
        "\n",
        "    std::cout << \"Naive: N = \" << N << \", kernel time = \" << ms << \" ms\" << std::endl;\n",
        "\n",
        "    std::ofstream out(\"naive_time.time\"); // No append flag = overwrite\n",
        "    if (out.is_open()) {\n",
        "        out << \"Naive: N = \" << N << \", kernel time = \" << ms << \" ms\" << std::endl;\n",
        "        out.close();\n",
        "    } else {\n",
        "        std::cerr << \"Unable to open output file!\" << std::endl;\n",
        "    }\n",
        "\n",
        "    std::cout << \"Sample outputs: C[0][0] = \" << C[0] << \", C[N/2][N/2] = \"\n",
        "              << C[(N/2) * N + (N/2)] << \", C[N-1][N-1] = \" << C[(N-1)*N + (N-1)] << std::endl;\n",
        "\n",
        "    delete[] A;\n",
        "    delete[] B;\n",
        "    delete[] C;\n",
        "    return 0;\n",
        "}"
      ],
      "metadata": {
        "id": "rjR7b4j4kJMB",
        "colab": {
          "base_uri": "https://localhost:8080/"
        },
        "outputId": "a51a6af8-7887-4c12-9dc2-932b5e1d3d95"
      },
      "execution_count": null,
      "outputs": [
        {
          "output_type": "stream",
          "name": "stdout",
          "text": [
            "Naive: N = 8192, kernel time = 2666.56 ms\n",
            "Sample outputs: C[0][0] = 2052.07, C[N/2][N/2] = 2059.19, C[N-1][N-1] = 2070.76\n",
            "\n"
          ]
        }
      ]
    },
    {
      "cell_type": "markdown",
      "source": [
        "## Shared Memory Tiling\n",
        "\n",
        "This kernel uses shared memory to reduce redundant loads from global memory. Each block loads a tile of A and B into shared memory, computes the partial result, then synchronizes before moving to the next tile."
      ],
      "metadata": {
        "id": "Xz8LG4CjbpVi"
      }
    },
    {
      "cell_type": "code",
      "source": [
        "%%cuda\n",
        "#include <iostream>\n",
        "#include <cstdlib>\n",
        "#include <cuda_runtime.h>\n",
        "#include <fstream>\n",
        "\n",
        "#define TILE_SIZE 16\n",
        "\n",
        "#define CUDA_CHECK(ans) { gpuAssert((ans), __FILE__, __LINE__); }\n",
        "\n",
        "inline void gpuAssert(cudaError_t code, const char *file, int line) {\n",
        "   if (code != cudaSuccess) {\n",
        "      std::cerr << \"CUDA Error: \" << cudaGetErrorString(code)\n",
        "                << \" \" << file << \":\" << line << std::endl;\n",
        "      exit(code);\n",
        "   }\n",
        "}\n",
        "\n",
        "__global__ void matMulKernel(float *A, float *B, float *C, int N) {\n",
        "    __shared__ float tileA[TILE_SIZE][TILE_SIZE];\n",
        "    __shared__ float tileB[TILE_SIZE][TILE_SIZE];\n",
        "\n",
        "    int row = blockIdx.y * TILE_SIZE + threadIdx.y;\n",
        "    int col = blockIdx.x * TILE_SIZE + threadIdx.x;\n",
        "\n",
        "    float val = 0.0;\n",
        "\n",
        "    for (int t = 0; t < (N + TILE_SIZE - 1) / TILE_SIZE; ++t) {\n",
        "        if (row < N && t * TILE_SIZE + threadIdx.x < N)\n",
        "            tileA[threadIdx.y][threadIdx.x] = A[row * N + t * TILE_SIZE + threadIdx.x];\n",
        "        else\n",
        "            tileA[threadIdx.y][threadIdx.x] = 0;\n",
        "\n",
        "        if (t * TILE_SIZE + threadIdx.y < N && col < N)\n",
        "            tileB[threadIdx.y][threadIdx.x] = B[(t * TILE_SIZE + threadIdx.y) * N + col];\n",
        "        else\n",
        "            tileB[threadIdx.y][threadIdx.x] = 0;\n",
        "\n",
        "        __syncthreads();\n",
        "\n",
        "        for (int i = 0; i < TILE_SIZE; ++i)\n",
        "            val += tileA[threadIdx.y][i] * tileB[i][threadIdx.x];\n",
        "\n",
        "        __syncthreads();\n",
        "    }\n",
        "\n",
        "    if (row < N && col < N)\n",
        "        C[row * N + col] = val;\n",
        "}\n",
        "\n",
        "void matMul(float *A, float *B, float *C, int N, float &ms) {\n",
        "    float *d_A, *d_B, *d_C;\n",
        "    size_t size = N * N * sizeof(float);\n",
        "\n",
        "    CUDA_CHECK(cudaMalloc(&d_A, size));\n",
        "    CUDA_CHECK(cudaMalloc(&d_B, size));\n",
        "    CUDA_CHECK(cudaMalloc(&d_C, size));\n",
        "\n",
        "    CUDA_CHECK(cudaMemcpy(d_A, A, size, cudaMemcpyHostToDevice));\n",
        "    CUDA_CHECK(cudaMemcpy(d_B, B, size, cudaMemcpyHostToDevice));\n",
        "\n",
        "    dim3 threadsPerBlock(16, 16);\n",
        "    dim3 numBlocks((N + 15) / 16, (N + 15) / 16);\n",
        "\n",
        "    cudaEvent_t start, stop;\n",
        "    CUDA_CHECK(cudaEventCreate(&start));\n",
        "    CUDA_CHECK(cudaEventCreate(&stop));\n",
        "    CUDA_CHECK(cudaEventRecord(start));\n",
        "\n",
        "    matMulKernel<<<numBlocks, threadsPerBlock>>>(d_A, d_B, d_C, N);\n",
        "\n",
        "    CUDA_CHECK(cudaEventRecord(stop));\n",
        "    CUDA_CHECK(cudaEventSynchronize(stop));\n",
        "    CUDA_CHECK(cudaEventElapsedTime(&ms, start, stop));\n",
        "\n",
        "    CUDA_CHECK(cudaMemcpy(C, d_C, size, cudaMemcpyDeviceToHost));\n",
        "\n",
        "    CUDA_CHECK(cudaFree(d_A));\n",
        "    CUDA_CHECK(cudaFree(d_B));\n",
        "    CUDA_CHECK(cudaFree(d_C));\n",
        "    CUDA_CHECK(cudaEventDestroy(start));\n",
        "    CUDA_CHECK(cudaEventDestroy(stop));\n",
        "}\n",
        "\n",
        "\n",
        "int main(int argc, char **argv) {\n",
        "\n",
        "    std::ifstream inSize(\"matrix.size\");\n",
        "    if (inSize.is_open() == false) {\n",
        "        std::cerr << \"Unable to open input file!\" << std::endl;\n",
        "        return 1;\n",
        "    }\n",
        "\n",
        "    int N;\n",
        "    inSize >> N;\n",
        "\n",
        "    const int size = N * N;\n",
        "    float *A = new float[size];\n",
        "    float *B = new float[size];\n",
        "    float *C = new float[size];\n",
        "\n",
        "    for (int i = 0; i < size; ++i) {\n",
        "        A[i] = static_cast<float>(rand()) / RAND_MAX;\n",
        "        B[i] = static_cast<float>(rand()) / RAND_MAX;\n",
        "    }\n",
        "\n",
        "    float ms = 0;\n",
        "    matMul(A, B, C, N, ms);\n",
        "\n",
        "    cudaError_t err = cudaGetLastError();\n",
        "    if (err != cudaSuccess) {\n",
        "        std::cerr << \"CUDA Error: \" << cudaGetErrorString(err) << std::endl;\n",
        "    }\n",
        "\n",
        "    std::cout << \"Shared: N = \" << N << \", kernel time = \" << ms << \" ms\" << std::endl;\n",
        "\n",
        "    std::ofstream out(\"shared_time.time\"); // No append flag = overwrite\n",
        "    if (out.is_open()) {\n",
        "        out << \"Shared: N = \" << N << \", kernel time = \" << ms << \" ms\" << std::endl;\n",
        "        out.close();\n",
        "    } else {\n",
        "        std::cerr << \"Unable to open output file!\" << std::endl;\n",
        "    }\n",
        "\n",
        "    std::cout << \"Sample outputs: C[0][0] = \" << C[0] << \", C[N/2][N/2] = \"\n",
        "              << C[(N/2) * N + (N/2)] << \", C[N-1][N-1] = \" << C[(N-1)*N + (N-1)] << std::endl;\n",
        "\n",
        "    delete[] A;\n",
        "    delete[] B;\n",
        "    delete[] C;\n",
        "    return 0;\n",
        "}"
      ],
      "metadata": {
        "id": "wDh8CpJMkLAc",
        "colab": {
          "base_uri": "https://localhost:8080/"
        },
        "outputId": "15b00052-61bd-4fb5-fc50-d149836560bc"
      },
      "execution_count": null,
      "outputs": [
        {
          "output_type": "stream",
          "name": "stdout",
          "text": [
            "Shared: N = 8192, kernel time = 1740.72 ms\n",
            "Sample outputs: C[0][0] = 2052.07, C[N/2][N/2] = 2059.19, C[N-1][N-1] = 2070.76\n",
            "\n"
          ]
        }
      ]
    },
    {
      "cell_type": "markdown",
      "source": [
        "## Register Tiling\n",
        "\n",
        "Instead of computing one output per thread, each thread computes a small **tile** of outputs  (using registers). This leverages fast register access."
      ],
      "metadata": {
        "id": "IPCoSJlvbyKH"
      }
    },
    {
      "cell_type": "code",
      "source": [
        "%%cuda\n",
        "#include <iostream>\n",
        "#include <cstdlib>\n",
        "#include <cuda_runtime.h>\n",
        "#include <fstream>\n",
        "\n",
        "#define TILE_SIZE 16\n",
        "\n",
        "#define CUDA_CHECK(ans) { gpuAssert((ans), __FILE__, __LINE__); }\n",
        "\n",
        "inline void gpuAssert(cudaError_t code, const char *file, int line) {\n",
        "   if (code != cudaSuccess) {\n",
        "      std::cerr << \"CUDA Error: \" << cudaGetErrorString(code)\n",
        "                << \" \" << file << \":\" << line << std::endl;\n",
        "      exit(code);\n",
        "   }\n",
        "}\n",
        "\n",
        "__global__ void matMulKernel(const float* A, const float* B, float* C, int N) {\n",
        "    __shared__ float tileA[TILE_SIZE][TILE_SIZE];\n",
        "    __shared__ float tileB[TILE_SIZE][TILE_SIZE];\n",
        "\n",
        "    // Compute global row/col for 2x2 tile\n",
        "    int row = blockIdx.y * TILE_SIZE + threadIdx.y * 2;\n",
        "    int col = blockIdx.x * TILE_SIZE + threadIdx.x * 2;\n",
        "\n",
        "    float c00 = 0, c01 = 0, c10 = 0, c11 = 0;\n",
        "\n",
        "    for (int t = 0; t < (N + TILE_SIZE - 1) / TILE_SIZE; ++t) {\n",
        "        // Load 2 rows of A into shared memory\n",
        "        for (int i = 0; i < 2; ++i) {\n",
        "            int r = row + i;\n",
        "            int c = t * TILE_SIZE + threadIdx.x * 2;\n",
        "            if (r < N && c < N) tileA[threadIdx.y * 2 + i][threadIdx.x * 2]     = A[r * N + c];\n",
        "            else                tileA[threadIdx.y * 2 + i][threadIdx.x * 2]     = 0.0f;\n",
        "            if (r < N && c + 1 < N) tileA[threadIdx.y * 2 + i][threadIdx.x * 2 + 1] = A[r * N + c + 1];\n",
        "            else                    tileA[threadIdx.y * 2 + i][threadIdx.x * 2 + 1] = 0.0f;\n",
        "        }\n",
        "\n",
        "        // Load 2 columns of B into shared memory\n",
        "        for (int i = 0; i < 2; ++i) {\n",
        "            int r = t * TILE_SIZE + threadIdx.y * 2;\n",
        "            int c = col + i;\n",
        "            if (r < N && c < N) tileB[threadIdx.y * 2][threadIdx.x * 2 + i]     = B[r * N + c];\n",
        "            else                tileB[threadIdx.y * 2][threadIdx.x * 2 + i]     = 0.0f;\n",
        "            if (r + 1 < N && c < N) tileB[threadIdx.y * 2 + 1][threadIdx.x * 2 + i] = B[(r + 1) * N + c];\n",
        "            else                    tileB[threadIdx.y * 2 + 1][threadIdx.x * 2 + i] = 0.0f;\n",
        "        }\n",
        "\n",
        "        __syncthreads();\n",
        "\n",
        "        // Multiply shared memory tiles\n",
        "        for (int k = 0; k < TILE_SIZE; ++k) {\n",
        "            float a0 = tileA[threadIdx.y * 2][k];\n",
        "            float a1 = tileA[threadIdx.y * 2 + 1][k];\n",
        "            float b0 = tileB[k][threadIdx.x * 2];\n",
        "            float b1 = tileB[k][threadIdx.x * 2 + 1];\n",
        "\n",
        "            c00 += a0 * b0;\n",
        "            c01 += a0 * b1;\n",
        "            c10 += a1 * b0;\n",
        "            c11 += a1 * b1;\n",
        "        }\n",
        "\n",
        "        __syncthreads();\n",
        "    }\n",
        "\n",
        "    // Write back to global memory\n",
        "    if (row < N && col < N) {\n",
        "        C[row * N + col] = c00;\n",
        "        if (col + 1 < N) C[row * N + col + 1] = c01;\n",
        "        if (row + 1 < N) C[(row + 1) * N + col] = c10;\n",
        "        if (row + 1 < N && col + 1 < N) C[(row + 1) * N + col + 1] = c11;\n",
        "    }\n",
        "}\n",
        "\n",
        "\n",
        "void matMul(float *A, float *B, float *C, int N, float &ms) {\n",
        "    float *d_A, *d_B, *d_C;\n",
        "    size_t size = N * N * sizeof(float);\n",
        "\n",
        "    CUDA_CHECK(cudaMalloc(&d_A, size));\n",
        "    CUDA_CHECK(cudaMalloc(&d_B, size));\n",
        "    CUDA_CHECK(cudaMalloc(&d_C, size));\n",
        "\n",
        "    CUDA_CHECK(cudaMemcpy(d_A, A, size, cudaMemcpyHostToDevice));\n",
        "    CUDA_CHECK(cudaMemcpy(d_B, B, size, cudaMemcpyHostToDevice));\n",
        "\n",
        "    dim3 threadsPerBlock(TILE_SIZE / 2, TILE_SIZE / 2);\n",
        "    dim3 numBlocks((N + TILE_SIZE - 1) / TILE_SIZE, (N + TILE_SIZE - 1) / TILE_SIZE);\n",
        "\n",
        "\n",
        "    cudaEvent_t start, stop;\n",
        "    CUDA_CHECK(cudaEventCreate(&start));\n",
        "    CUDA_CHECK(cudaEventCreate(&stop));\n",
        "    CUDA_CHECK(cudaEventRecord(start));\n",
        "\n",
        "    matMulKernel<<<numBlocks, threadsPerBlock>>>(d_A, d_B, d_C, N);\n",
        "\n",
        "    CUDA_CHECK(cudaEventRecord(stop));\n",
        "    CUDA_CHECK(cudaEventSynchronize(stop));\n",
        "    CUDA_CHECK(cudaEventElapsedTime(&ms, start, stop));\n",
        "\n",
        "    CUDA_CHECK(cudaMemcpy(C, d_C, size, cudaMemcpyDeviceToHost));\n",
        "\n",
        "    CUDA_CHECK(cudaFree(d_A));\n",
        "    CUDA_CHECK(cudaFree(d_B));\n",
        "    CUDA_CHECK(cudaFree(d_C));\n",
        "    CUDA_CHECK(cudaEventDestroy(start));\n",
        "    CUDA_CHECK(cudaEventDestroy(stop));\n",
        "}\n",
        "\n",
        "\n",
        "int main(int argc, char **argv) {\n",
        "\n",
        "    std::ifstream inSize(\"matrix.size\");\n",
        "    if (inSize.is_open() == false) {\n",
        "        std::cerr << \"Unable to open input file!\" << std::endl;\n",
        "        return 1;\n",
        "    }\n",
        "\n",
        "    int N;\n",
        "    inSize >> N;\n",
        "\n",
        "    const int size = N * N;\n",
        "    float *A = new float[size];\n",
        "    float *B = new float[size];\n",
        "    float *C = new float[size];\n",
        "\n",
        "    for (int i = 0; i < size; ++i) {\n",
        "        A[i] = static_cast<float>(rand()) / RAND_MAX;\n",
        "        B[i] = static_cast<float>(rand()) / RAND_MAX;\n",
        "    }\n",
        "\n",
        "    float ms = 0;\n",
        "    matMul(A, B, C, N, ms);\n",
        "\n",
        "    cudaError_t err = cudaGetLastError();\n",
        "    if (err != cudaSuccess) {\n",
        "        std::cerr << \"CUDA Error: \" << cudaGetErrorString(err) << std::endl;\n",
        "    }\n",
        "\n",
        "    std::cout << \"Register: N = \" << N << \", kernel time = \" << ms << \" ms\" << std::endl;\n",
        "\n",
        "    std::ofstream out(\"register_time.time\"); // No append flag = overwrite\n",
        "    if (out.is_open()) {\n",
        "        out << \"Register: N = \" << N << \", kernel time = \" << ms << \" ms\" << std::endl;\n",
        "        out.close();\n",
        "    } else {\n",
        "        std::cerr << \"Unable to open output file!\" << std::endl;\n",
        "    }\n",
        "\n",
        "    std::cout << \"Sample outputs: C[0][0] = \" << C[0] << \", C[N/2][N/2] = \"\n",
        "              << C[(N/2) * N + (N/2)] << \", C[N-1][N-1] = \" << C[(N-1)*N + (N-1)] << std::endl;\n",
        "\n",
        "\n",
        "    delete[] A;\n",
        "    delete[] B;\n",
        "    delete[] C;\n",
        "    return 0;\n",
        "}"
      ],
      "metadata": {
        "id": "Aqm5vcH0kMgy",
        "colab": {
          "base_uri": "https://localhost:8080/"
        },
        "outputId": "fc2c5c43-fbdc-49c3-eebb-3c2963cdf078"
      },
      "execution_count": null,
      "outputs": [
        {
          "output_type": "stream",
          "name": "stdout",
          "text": [
            "Register: N = 8192, kernel time = 1655.33 ms\n",
            "Sample outputs: C[0][0] = 2052.07, C[N/2][N/2] = 2059.19, C[N-1][N-1] = 2070.76\n",
            "\n"
          ]
        }
      ]
    },
    {
      "cell_type": "markdown",
      "source": [
        "## Benchmarking"
      ],
      "metadata": {
        "id": "LNa_0RprcJRB"
      }
    },
    {
      "cell_type": "code",
      "source": [
        "import re\n",
        "import matplotlib.pyplot as plt\n",
        "\n",
        "# Files you want to parse\n",
        "time_files = [\n",
        "    \"naive_time.time\",\n",
        "    \"shared_time.time\",\n",
        "    \"register_time.time\",\n",
        "]\n",
        "\n",
        "timings = []\n",
        "\n",
        "# Extract label and time from each file\n",
        "for file in time_files:\n",
        "    with open(file, 'r') as f:\n",
        "        content = f.read()\n",
        "        match = re.search(r\"^\\s*([A-Za-z0-9+ ]+):.*?kernel time\\s*=\\s*([0-9.]+)\", content)\n",
        "        if match:\n",
        "            label = match.group(1)\n",
        "            time = float(match.group(2))\n",
        "            timings.append((label, time))\n",
        "        else:\n",
        "            print(f\"Warning: Couldn't parse {file}\")\n",
        "\n",
        "# Unzip\n",
        "labels, times = zip(*timings)\n",
        "\n",
        "# Plotting\n",
        "plt.figure(figsize=(8, 5))\n",
        "bars = plt.barh(labels, times)\n",
        "plt.xlabel(\"Execution Time (ms)\")\n",
        "plt.title(\"GPU Matrix Multiplication Time Comparison\")\n",
        "plt.gca().invert_yaxis()\n",
        "\n",
        "# Annotate bars\n",
        "for bar, t in zip(bars, times):\n",
        "    plt.text(bar.get_width() + 0.3, bar.get_y() + bar.get_height() / 2,\n",
        "             f\"{t:.2f} ms\", va='center')\n",
        "\n",
        "plt.grid(axis='x', linestyle='--', alpha=0.6)\n",
        "plt.tight_layout()\n",
        "plt.grid(True)\n",
        "plt.show()\n"
      ],
      "metadata": {
        "colab": {
          "base_uri": "https://localhost:8080/",
          "height": 507
        },
        "id": "dphytnA-kPMK",
        "outputId": "5a9daeca-1751-49e4-9fda-1b818ffc1bff"
      },
      "execution_count": null,
      "outputs": [
        {
          "output_type": "display_data",
          "data": {
            "text/plain": [
              "<Figure size 800x500 with 1 Axes>"
            ],
            "image/png": "[encoded data removed]"
          },
          "metadata": {}
        }
      ]
    }
  ]
}